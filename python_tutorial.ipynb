{
 "cells": [
  {
   "cell_type": "markdown",
   "metadata": {
    "id": "dzNng6vCL9eP"
   },
   "source": [
    "# Introduction to Python, Numpy, Matplotlib"
   ]
  },
  {
   "cell_type": "markdown",
   "metadata": {
    "id": "0vJLt3JRL9eR"
   },
   "source": [
    "This tutorial is adapted from the Colab tutorial by Kevin Zakka for [cs231n](https://cs231n.github.io/)."
   ]
  },
  {
   "cell_type": "markdown",
   "metadata": {
    "id": "qVrTo-LhL9eS"
   },
   "source": [
    "## Introduction"
   ]
  },
  {
   "cell_type": "markdown",
   "metadata": {
    "id": "9t1gKp9PL9eV"
   },
   "source": [
    "Python is a great general-purpose programming language on its own, but with the help of a few popular libraries (numpy, scipy, matplotlib) it becomes a powerful environment for scientific computing.\n",
    "\n",
    "We expect that many of you will have some experience with Python and numpy; for the rest of you, this section will serve as a quick crash course both on the Python programming language and on the use of Python for scientific computing.\n",
    "\n",
    "Some of you may have previous knowledge in Matlab, in which case we also recommend the numpy for Matlab users page (https://numpy.org/doc/stable/user/numpy-for-matlab-users.html)."
   ]
  },
  {
   "cell_type": "markdown",
   "metadata": {
    "id": "U1PvreR9L9eW"
   },
   "source": [
    "In this tutorial, we will cover:\n",
    "\n",
    "* Basic Python: Basic data types (Containers, Lists, Dictionaries, Sets, Tuples), Functions, Classes\n",
    "* Numpy: Arrays, Array indexing, Datatypes, Array math, Broadcasting\n",
    "* Matplotlib: Plotting, Subplots, Images\n",
    "* IPython: Creating notebooks, Typical workflows"
   ]
  },
  {
   "cell_type": "markdown",
   "metadata": {
    "id": "nxvEkGXPM3Xh"
   },
   "source": [
    "## A Brief Note on Python Versions\n",
    "\n",
    "As of Janurary 1, 2020, Python has [officially dropped support](https://www.python.org/doc/sunset-python-2/) for `python2`. We'll be using Python 3.9 for this course. You can check your Python version at the command line by running `python --version`."
   ]
  },
  {
   "cell_type": "code",
   "execution_count": 19,
   "metadata": {
    "colab": {
     "base_uri": "https://localhost:8080/",
     "height": 34
    },
    "id": "1L4Am0QATgOc",
    "outputId": "bb5ee3ac-8683-44ab-e599-a2077510f327"
   },
   "outputs": [
    {
     "name": "stdout",
     "output_type": "stream",
     "text": [
      "Python 3.8.8\r\n"
     ]
    }
   ],
   "source": [
    "!python --version"
   ]
  },
  {
   "cell_type": "markdown",
   "metadata": {
    "id": "JAFKYgrpL9eY"
   },
   "source": [
    "## Basics of Python"
   ]
  },
  {
   "cell_type": "markdown",
   "metadata": {
    "id": "RbFS6tdgL9ea"
   },
   "source": [
    "Python is a high-level, dynamically typed multiparadigm programming language. Python code is often said to be almost like pseudocode, since it allows you to express very powerful ideas in very few lines of code while being very readable. As an example, here is an implementation of the classic quicksort algorithm in Python:"
   ]
  },
  {
   "cell_type": "code",
   "execution_count": 20,
   "metadata": {
    "colab": {
     "base_uri": "https://localhost:8080/",
     "height": 34
    },
    "id": "cYb0pjh1L9eb",
    "outputId": "9a8e37de-1dc1-4092-faee-06ad4ff2d73a"
   },
   "outputs": [
    {
     "name": "stdout",
     "output_type": "stream",
     "text": [
      "[1, 1, 2, 3, 6, 8, 10]\n"
     ]
    }
   ],
   "source": [
    "def quicksort(arr):\n",
    "    if len(arr) <= 1:\n",
    "        return arr\n",
    "    pivot = arr[len(arr) // 2]\n",
    "    left = [x for x in arr if x < pivot]\n",
    "    middle = [x for x in arr if x == pivot]\n",
    "    right = [x for x in arr if x > pivot]\n",
    "    return quicksort(left) + middle + quicksort(right)\n",
    "\n",
    "print(quicksort([3,6,8,10,1,2,1]))"
   ]
  },
  {
   "cell_type": "markdown",
   "metadata": {
    "id": "NwS_hu4xL9eo"
   },
   "source": [
    "### Basic data types"
   ]
  },
  {
   "cell_type": "markdown",
   "metadata": {
    "id": "DL5sMSZ9L9eq"
   },
   "source": [
    "#### Numbers"
   ]
  },
  {
   "cell_type": "markdown",
   "metadata": {
    "id": "MGS0XEWoL9er"
   },
   "source": [
    "Integers and floats work as you would expect from other languages:"
   ]
  },
  {
   "cell_type": "code",
   "execution_count": 21,
   "metadata": {
    "colab": {
     "base_uri": "https://localhost:8080/",
     "height": 52
    },
    "id": "KheDr_zDL9es",
    "outputId": "1db9f4d3-2e0d-4008-f78a-161ed52c4359"
   },
   "outputs": [
    {
     "name": "stdout",
     "output_type": "stream",
     "text": [
      "3 <class 'int'>\n"
     ]
    }
   ],
   "source": [
    "x = 3\n",
    "print(x, type(x))"
   ]
  },
  {
   "cell_type": "code",
   "execution_count": 22,
   "metadata": {
    "colab": {
     "base_uri": "https://localhost:8080/",
     "height": 86
    },
    "id": "sk_8DFcuL9ey",
    "outputId": "dd60a271-3457-465d-e16a-41acf12a56ab"
   },
   "outputs": [
    {
     "name": "stdout",
     "output_type": "stream",
     "text": [
      "4\n",
      "2\n",
      "6\n",
      "1.5\n",
      "1\n",
      "9\n"
     ]
    }
   ],
   "source": [
    "print(x + 1)   # Addition\n",
    "print(x - 1)   # Subtraction\n",
    "print(x * 2)   # Multiplication\n",
    "print(x / 2)   # Division\n",
    "print(x // 2)  # (floor) Division\n",
    "print(x ** 2)  # Exponentiation"
   ]
  },
  {
   "cell_type": "code",
   "execution_count": 23,
   "metadata": {
    "colab": {
     "base_uri": "https://localhost:8080/",
     "height": 52
    },
    "id": "U4Jl8K0tL9e4",
    "outputId": "07e3db14-3781-42b7-8ba6-042b3f9f72ba"
   },
   "outputs": [
    {
     "name": "stdout",
     "output_type": "stream",
     "text": [
      "4\n",
      "8\n"
     ]
    }
   ],
   "source": [
    "x += 1\n",
    "print(x)\n",
    "x *= 2\n",
    "print(x)"
   ]
  },
  {
   "cell_type": "code",
   "execution_count": 24,
   "metadata": {
    "colab": {
     "base_uri": "https://localhost:8080/",
     "height": 52
    },
    "id": "w-nZ0Sg_L9e9",
    "outputId": "3aa579f8-9540-46ef-935e-be887781ecb4"
   },
   "outputs": [
    {
     "name": "stdout",
     "output_type": "stream",
     "text": [
      "<class 'float'>\n",
      "2.5 3.5 5.0 6.25\n"
     ]
    }
   ],
   "source": [
    "y = 2.5\n",
    "print(type(y))\n",
    "print(y, y + 1, y * 2, y ** 2)"
   ]
  },
  {
   "cell_type": "markdown",
   "metadata": {
    "id": "r2A9ApyaL9fB"
   },
   "source": [
    "Note that unlike many languages, Python does not have unary increment (x++) or decrement (x--) operators.\n",
    "\n",
    "Python also has built-in types for long integers and complex numbers; you can find all of the details in the [documentation](https://docs.python.org/3.9/library/stdtypes.html#numeric-types-int-float-long-complex)."
   ]
  },
  {
   "cell_type": "markdown",
   "metadata": {
    "id": "EqRS7qhBL9fC"
   },
   "source": [
    "#### Booleans"
   ]
  },
  {
   "cell_type": "markdown",
   "metadata": {
    "id": "Nv_LIVOJL9fD"
   },
   "source": [
    "Python implements all of the usual operators for Boolean logic, but uses English words rather than symbols (`&&`, `||`, etc.):"
   ]
  },
  {
   "cell_type": "code",
   "execution_count": 25,
   "metadata": {
    "colab": {
     "base_uri": "https://localhost:8080/",
     "height": 34
    },
    "id": "RvoImwgGL9fE",
    "outputId": "1517077b-edca-463f-857b-6a8c386cd387"
   },
   "outputs": [
    {
     "name": "stdout",
     "output_type": "stream",
     "text": [
      "<class 'bool'>\n"
     ]
    }
   ],
   "source": [
    "t, f = True, False\n",
    "print(type(t))"
   ]
  },
  {
   "cell_type": "markdown",
   "metadata": {
    "id": "YQgmQfOgL9fI"
   },
   "source": [
    "Now let's look at the operations:"
   ]
  },
  {
   "cell_type": "code",
   "execution_count": 26,
   "metadata": {
    "colab": {
     "base_uri": "https://localhost:8080/",
     "height": 86
    },
    "id": "6zYm7WzCL9fK",
    "outputId": "f3cebe76-5af4-473a-8127-88a1fd60560f"
   },
   "outputs": [
    {
     "name": "stdout",
     "output_type": "stream",
     "text": [
      "False\n",
      "True\n",
      "False\n",
      "True\n"
     ]
    }
   ],
   "source": [
    "print(t and f) # Logical AND;\n",
    "print(t or f)  # Logical OR;\n",
    "print(not t)   # Logical NOT;\n",
    "print(t != f)  # Logical XOR;"
   ]
  },
  {
   "cell_type": "markdown",
   "metadata": {
    "id": "UQnQWFEyL9fP"
   },
   "source": [
    "#### Strings"
   ]
  },
  {
   "cell_type": "code",
   "execution_count": 27,
   "metadata": {
    "colab": {
     "base_uri": "https://localhost:8080/",
     "height": 34
    },
    "id": "AijEDtPFL9fP",
    "outputId": "2a6b0cd7-58f1-43cf-e6b7-bf940d532549"
   },
   "outputs": [
    {
     "name": "stdout",
     "output_type": "stream",
     "text": [
      "hello 5\n"
     ]
    }
   ],
   "source": [
    "hello = 'hello'   # String literals can use single quotes\n",
    "world = \"world\"   # or double quotes; it does not matter\n",
    "print(hello, len(hello))"
   ]
  },
  {
   "cell_type": "code",
   "execution_count": 28,
   "metadata": {
    "colab": {
     "base_uri": "https://localhost:8080/",
     "height": 34
    },
    "id": "saDeaA7hL9fT",
    "outputId": "2837d0ab-9ae5-4053-d087-bfa0af81c344"
   },
   "outputs": [
    {
     "name": "stdout",
     "output_type": "stream",
     "text": [
      "hello world\n"
     ]
    }
   ],
   "source": [
    "hw = hello + ' ' + world  # String concatenation\n",
    "print(hw)"
   ]
  },
  {
   "cell_type": "code",
   "execution_count": 29,
   "metadata": {
    "colab": {
     "base_uri": "https://localhost:8080/",
     "height": 34
    },
    "id": "Nji1_UjYL9fY",
    "outputId": "0149b0ca-425a-4a34-8e24-8dff7080922e"
   },
   "outputs": [
    {
     "name": "stdout",
     "output_type": "stream",
     "text": [
      "hello world 1.20e+01\n"
     ]
    }
   ],
   "source": [
    "hw12 = f'{hello} {world} {12:.2e}'  # String formatting\n",
    "print(hw12)"
   ]
  },
  {
   "cell_type": "markdown",
   "metadata": {},
   "source": [
    "Since python 3.8 string formatting also support `=` f-string."
   ]
  },
  {
   "cell_type": "code",
   "execution_count": 30,
   "metadata": {},
   "outputs": [
    {
     "name": "stdout",
     "output_type": "stream",
     "text": [
      "hello='world'\n"
     ]
    }
   ],
   "source": [
    "hello = world\n",
    "print(f'{hello=}')"
   ]
  },
  {
   "cell_type": "markdown",
   "metadata": {
    "id": "bUpl35bIL9fc"
   },
   "source": [
    "String objects have a bunch of useful methods; for example:"
   ]
  },
  {
   "cell_type": "code",
   "execution_count": 31,
   "metadata": {
    "colab": {
     "base_uri": "https://localhost:8080/",
     "height": 121
    },
    "id": "VOxGatlsL9fd",
    "outputId": "ab009df3-8643-4d3e-f85f-a813b70db9cb"
   },
   "outputs": [
    {
     "name": "stdout",
     "output_type": "stream",
     "text": [
      "Hello\n",
      "HELLO\n",
      "  hello\n",
      " hello \n",
      "he(ell)(ell)o\n",
      "world\n"
     ]
    }
   ],
   "source": [
    "s = \"hello\"\n",
    "print(s.capitalize())  # Capitalize a string\n",
    "print(s.upper())       # Convert a string to uppercase; prints \"HELLO\"\n",
    "print(s.rjust(7))      # Right-justify a string, padding with spaces\n",
    "print(s.center(7))     # Center a string, padding with spaces\n",
    "print(s.replace('l', '(ell)'))  # Replace all instances of one substring with another\n",
    "print('  world '.strip())  # Strip leading and trailing whitespace"
   ]
  },
  {
   "cell_type": "markdown",
   "metadata": {
    "id": "06cayXLtL9fi"
   },
   "source": [
    "You can find a list of all string methods in the [documentation](https://docs.python.org/3.9/library/stdtypes.html#string-methods)."
   ]
  },
  {
   "cell_type": "markdown",
   "metadata": {
    "id": "p-6hClFjL9fk"
   },
   "source": [
    "### Containers"
   ]
  },
  {
   "cell_type": "markdown",
   "metadata": {
    "id": "FD9H18eQL9fk"
   },
   "source": [
    "Python includes several built-in container types: lists, dictionaries, sets, and tuples."
   ]
  },
  {
   "cell_type": "markdown",
   "metadata": {
    "id": "UsIWOe0LL9fn"
   },
   "source": [
    "#### Lists"
   ]
  },
  {
   "cell_type": "markdown",
   "metadata": {
    "id": "wzxX7rgWL9fn"
   },
   "source": [
    "A list is the Python equivalent of an array, but is resizeable and can contain elements of different types:"
   ]
  },
  {
   "cell_type": "code",
   "execution_count": 32,
   "metadata": {
    "colab": {
     "base_uri": "https://localhost:8080/",
     "height": 52
    },
    "id": "hk3A8pPcL9fp",
    "outputId": "b545939a-580c-4356-db95-7ad3670b46e4"
   },
   "outputs": [
    {
     "name": "stdout",
     "output_type": "stream",
     "text": [
      "[3, 1, 2] 2\n",
      "2\n"
     ]
    }
   ],
   "source": [
    "xs = [3, 1, 2]   # Create a list\n",
    "print(xs, xs[2])\n",
    "print(xs[-1])     # Negative indices count from the end of the list; prints \"2\""
   ]
  },
  {
   "cell_type": "code",
   "execution_count": 33,
   "metadata": {
    "colab": {
     "base_uri": "https://localhost:8080/",
     "height": 34
    },
    "id": "YCjCy_0_L9ft",
    "outputId": "417c54ff-170b-4372-9099-0f756f8e48af"
   },
   "outputs": [
    {
     "name": "stdout",
     "output_type": "stream",
     "text": [
      "[3, 1, 'foo']\n"
     ]
    }
   ],
   "source": [
    "xs[2] = 'foo'    # Lists can contain elements of different types\n",
    "print(xs)"
   ]
  },
  {
   "cell_type": "code",
   "execution_count": 34,
   "metadata": {
    "colab": {
     "base_uri": "https://localhost:8080/",
     "height": 34
    },
    "id": "vJ0x5cF-L9fx",
    "outputId": "a97731a3-70e1-4553-d9e0-2aea227cac80"
   },
   "outputs": [
    {
     "name": "stdout",
     "output_type": "stream",
     "text": [
      "[3, 1, 'foo', 'bar']\n"
     ]
    }
   ],
   "source": [
    "xs.append('bar') # Add a new element to the end of the list\n",
    "print(xs)  "
   ]
  },
  {
   "cell_type": "code",
   "execution_count": 35,
   "metadata": {
    "colab": {
     "base_uri": "https://localhost:8080/",
     "height": 34
    },
    "id": "cxVCNRTNL9f1",
    "outputId": "508fbe59-20aa-48b5-a1b2-f90363e7a104"
   },
   "outputs": [
    {
     "name": "stdout",
     "output_type": "stream",
     "text": [
      "bar [3, 1, 'foo']\n"
     ]
    }
   ],
   "source": [
    "x = xs.pop()     # Remove and return the last element of the list\n",
    "print(x, xs)"
   ]
  },
  {
   "cell_type": "markdown",
   "metadata": {
    "id": "ilyoyO34L9f4"
   },
   "source": [
    "As usual, you can find all the gory details about lists in the [documentation](https://docs.python.org/3.7/tutorial/datastructures.html#more-on-lists)."
   ]
  },
  {
   "cell_type": "markdown",
   "metadata": {
    "id": "ovahhxd_L9f5"
   },
   "source": [
    "#### Slicing"
   ]
  },
  {
   "cell_type": "markdown",
   "metadata": {
    "id": "YeSYKhv9L9f6"
   },
   "source": [
    "In addition to accessing list elements one at a time, Python provides concise syntax to access sublists; this is known as slicing:"
   ]
  },
  {
   "cell_type": "code",
   "execution_count": 36,
   "metadata": {
    "colab": {
     "base_uri": "https://localhost:8080/",
     "height": 139
    },
    "id": "ninq666bL9f6",
    "outputId": "c3c2ed92-7358-4fdb-bbc0-e90f82e7e941"
   },
   "outputs": [
    {
     "name": "stdout",
     "output_type": "stream",
     "text": [
      "[0, 1, 2, 3, 4]\n",
      "[2, 3]\n",
      "[2, 3, 4]\n",
      "[0, 1]\n",
      "[0, 1, 2, 3, 4]\n",
      "[0, 1, 2, 3]\n",
      "[0, 1, 8, 9, 4]\n"
     ]
    }
   ],
   "source": [
    "nums = list(range(5))    # range is a built-in function that creates a list of integers\n",
    "print(nums)         # Prints \"[0, 1, 2, 3, 4]\"\n",
    "print(nums[2:4])    # Get a slice from index 2 to 4 (exclusive); prints \"[2, 3]\"\n",
    "print(nums[2:])     # Get a slice from index 2 to the end; prints \"[2, 3, 4]\"\n",
    "print(nums[:2])     # Get a slice from the start to index 2 (exclusive); prints \"[0, 1]\"\n",
    "print(nums[:])      # Get a slice of the whole list; prints [\"0, 1, 2, 3, 4]\"\n",
    "print(nums[:-1])    # Slice indices can be negative; prints [\"0, 1, 2, 3]\"\n",
    "nums[2:4] = [8, 9]  # Assign a new sublist to a slice\n",
    "print(nums)         # Prints \"[0, 1, 8, 9, 4]\""
   ]
  },
  {
   "cell_type": "markdown",
   "metadata": {
    "id": "UONpMhF4L9f_"
   },
   "source": [
    "#### Loops"
   ]
  },
  {
   "cell_type": "markdown",
   "metadata": {
    "id": "_DYz1j6QL9f_"
   },
   "source": [
    "You can loop over the elements of a list like this:"
   ]
  },
  {
   "cell_type": "code",
   "execution_count": 37,
   "metadata": {
    "colab": {
     "base_uri": "https://localhost:8080/",
     "height": 69
    },
    "id": "4cCOysfWL9gA",
    "outputId": "560e46c7-279c-409a-838c-64bea8d321c4"
   },
   "outputs": [
    {
     "name": "stdout",
     "output_type": "stream",
     "text": [
      "cat\n",
      "dog\n",
      "monkey\n"
     ]
    }
   ],
   "source": [
    "animals = ['cat', 'dog', 'monkey']\n",
    "for animal in animals:\n",
    "    print(animal)"
   ]
  },
  {
   "cell_type": "markdown",
   "metadata": {
    "id": "KxIaQs7pL9gE"
   },
   "source": [
    "If you want access to the index of each element within the body of a loop, use the built-in `enumerate` function:"
   ]
  },
  {
   "cell_type": "code",
   "execution_count": 38,
   "metadata": {
    "colab": {
     "base_uri": "https://localhost:8080/",
     "height": 69
    },
    "id": "JjGnDluWL9gF",
    "outputId": "81421905-17ea-4c5a-bcc0-176de19fd9bd"
   },
   "outputs": [
    {
     "name": "stdout",
     "output_type": "stream",
     "text": [
      "#1: cat\n",
      "#2: dog\n",
      "#3: monkey\n"
     ]
    }
   ],
   "source": [
    "animals = ['cat', 'dog', 'monkey']\n",
    "for idx, animal in enumerate(animals):\n",
    "    print('#{}: {}'.format(idx + 1, animal))"
   ]
  },
  {
   "cell_type": "markdown",
   "metadata": {
    "id": "arrLCcMyL9gK"
   },
   "source": [
    "#### List comprehensions:"
   ]
  },
  {
   "cell_type": "markdown",
   "metadata": {
    "id": "5Qn2jU_pL9gL"
   },
   "source": [
    "When programming, frequently we want to transform one type of data into another. As a simple example, consider the following code that computes square numbers:"
   ]
  },
  {
   "cell_type": "code",
   "execution_count": 39,
   "metadata": {
    "colab": {
     "base_uri": "https://localhost:8080/",
     "height": 34
    },
    "id": "IVNEwoMXL9gL",
    "outputId": "d571445b-055d-45f0-f800-24fd76ceec5a"
   },
   "outputs": [
    {
     "name": "stdout",
     "output_type": "stream",
     "text": [
      "[0, 1, 4, 9, 16]\n"
     ]
    }
   ],
   "source": [
    "nums = [0, 1, 2, 3, 4]\n",
    "squares = []\n",
    "for x in nums:\n",
    "    squares.append(x ** 2)\n",
    "print(squares)"
   ]
  },
  {
   "cell_type": "markdown",
   "metadata": {
    "id": "7DmKVUFaL9gQ"
   },
   "source": [
    "You can make this code simpler using a list comprehension:"
   ]
  },
  {
   "cell_type": "code",
   "execution_count": 40,
   "metadata": {
    "colab": {
     "base_uri": "https://localhost:8080/",
     "height": 34
    },
    "id": "kZxsUfV6L9gR",
    "outputId": "4254a7d4-58ba-4f70-a963-20c46b485b72"
   },
   "outputs": [
    {
     "name": "stdout",
     "output_type": "stream",
     "text": [
      "[0, 1, 4, 9, 16]\n"
     ]
    }
   ],
   "source": [
    "nums = [0, 1, 2, 3, 4]\n",
    "squares = [x ** 2 for x in nums]\n",
    "print(squares)"
   ]
  },
  {
   "cell_type": "markdown",
   "metadata": {
    "id": "-D8ARK7tL9gV"
   },
   "source": [
    "List comprehensions can also contain conditions:"
   ]
  },
  {
   "cell_type": "code",
   "execution_count": 41,
   "metadata": {
    "colab": {
     "base_uri": "https://localhost:8080/",
     "height": 34
    },
    "id": "yUtgOyyYL9gV",
    "outputId": "1ae7ab58-8119-44dc-8e57-fda09197d026"
   },
   "outputs": [
    {
     "name": "stdout",
     "output_type": "stream",
     "text": [
      "[0, 4, 16]\n"
     ]
    }
   ],
   "source": [
    "nums = [0, 1, 2, 3, 4]\n",
    "even_squares = [x ** 2 for x in nums if x % 2 == 0]\n",
    "print(even_squares)"
   ]
  },
  {
   "cell_type": "markdown",
   "metadata": {
    "id": "H8xsUEFpL9gZ"
   },
   "source": [
    "#### Dictionaries"
   ]
  },
  {
   "cell_type": "markdown",
   "metadata": {
    "id": "kkjAGMAJL9ga"
   },
   "source": [
    "A dictionary stores (key, value) pairs, similar to a `Map` in Java or an object in Javascript. You can use it like this:"
   ]
  },
  {
   "cell_type": "code",
   "execution_count": 42,
   "metadata": {
    "colab": {
     "base_uri": "https://localhost:8080/",
     "height": 52
    },
    "id": "XBYI1MrYL9gb",
    "outputId": "8e24c1da-0fc0-4b4c-a3e6-6f758a53b7da"
   },
   "outputs": [
    {
     "name": "stdout",
     "output_type": "stream",
     "text": [
      "cute\n",
      "True\n"
     ]
    }
   ],
   "source": [
    "d = {'cat': 'cute', 'dog': 'furry'}  # Create a new dictionary with some data\n",
    "print(d['cat'])       # Get an entry from a dictionary; prints \"cute\"\n",
    "print('cat' in d)     # Check if a dictionary has a given key; prints \"True\""
   ]
  },
  {
   "cell_type": "code",
   "execution_count": 43,
   "metadata": {
    "colab": {
     "base_uri": "https://localhost:8080/",
     "height": 34
    },
    "id": "pS7e-G-HL9gf",
    "outputId": "feb4bf18-c0a3-42a2-eaf5-3fc390f36dcf"
   },
   "outputs": [
    {
     "name": "stdout",
     "output_type": "stream",
     "text": [
      "wet\n"
     ]
    }
   ],
   "source": [
    "d['fish'] = 'wet'     # Set an entry in a dictionary\n",
    "print(d['fish'])      # Prints \"wet\""
   ]
  },
  {
   "cell_type": "code",
   "execution_count": 45,
   "metadata": {
    "colab": {
     "base_uri": "https://localhost:8080/",
     "height": 165
    },
    "id": "tFY065ItL9gi",
    "outputId": "7e42a5f0-1856-4608-a927-0930ab37a66c"
   },
   "outputs": [
    {
     "ename": "KeyError",
     "evalue": "'monkey'",
     "output_type": "error",
     "traceback": [
      "\u001b[0;31m---------------------------------------------------------------------------\u001b[0m",
      "\u001b[0;31mKeyError\u001b[0m                                  Traceback (most recent call last)",
      "\u001b[0;32m<ipython-input-45-407592c2366f>\u001b[0m in \u001b[0;36m<module>\u001b[0;34m\u001b[0m\n\u001b[0;32m----> 1\u001b[0;31m \u001b[0mprint\u001b[0m\u001b[0;34m(\u001b[0m\u001b[0md\u001b[0m\u001b[0;34m[\u001b[0m\u001b[0;34m'monkey'\u001b[0m\u001b[0;34m]\u001b[0m\u001b[0;34m)\u001b[0m    \u001b[0;31m# KeyError: 'monkey' not a key of d\u001b[0m\u001b[0;34m\u001b[0m\u001b[0;34m\u001b[0m\u001b[0m\n\u001b[0m",
      "\u001b[0;31mKeyError\u001b[0m: 'monkey'"
     ]
    }
   ],
   "source": [
    "print(d['monkey'])    # KeyError: 'monkey' not a key of d"
   ]
  },
  {
   "cell_type": "code",
   "execution_count": null,
   "metadata": {
    "colab": {
     "base_uri": "https://localhost:8080/",
     "height": 52
    },
    "id": "8TjbEWqML9gl",
    "outputId": "ef14d05e-401d-4d23-ed1a-0fe6b4c77d6f"
   },
   "outputs": [],
   "source": [
    "print(d.get('monkey', 'N/A'))  # Get an element with a default; prints \"N/A\"\n",
    "print(d.get('fish', 'N/A'))    # Get an element with a default; prints \"wet\""
   ]
  },
  {
   "cell_type": "code",
   "execution_count": null,
   "metadata": {
    "colab": {
     "base_uri": "https://localhost:8080/",
     "height": 34
    },
    "id": "0EItdNBJL9go",
    "outputId": "652a950f-b0c2-4623-98bd-0191b300cd57"
   },
   "outputs": [],
   "source": [
    "del d['fish']         # Remove an element from a dictionary\n",
    "print(d.get('fish', 'N/A')) # \"fish\" is no longer a key; prints \"N/A\""
   ]
  },
  {
   "cell_type": "markdown",
   "metadata": {
    "id": "wqm4dRZNL9gr"
   },
   "source": [
    "You can find all you need to know about dictionaries in the [documentation](https://docs.python.org/3.9/library/stdtypes.html#dict)."
   ]
  },
  {
   "cell_type": "markdown",
   "metadata": {
    "id": "IxwEqHlGL9gr"
   },
   "source": [
    "It is easy to iterate over the keys in a dictionary:"
   ]
  },
  {
   "cell_type": "code",
   "execution_count": null,
   "metadata": {
    "colab": {
     "base_uri": "https://localhost:8080/",
     "height": 69
    },
    "id": "rYfz7ZKNL9gs",
    "outputId": "155bdb17-3179-4292-c832-8166e955e942"
   },
   "outputs": [],
   "source": [
    "d = {'person': 2, 'cat': 4, 'spider': 8}\n",
    "for animal, legs in d.items():\n",
    "    print('A {} has {} legs'.format(animal, legs))"
   ]
  },
  {
   "cell_type": "markdown",
   "metadata": {
    "id": "17sxiOpzL9gz"
   },
   "source": [
    "Dictionary comprehensions: These are similar to list comprehensions, but allow you to easily construct dictionaries. For example:"
   ]
  },
  {
   "cell_type": "code",
   "execution_count": 46,
   "metadata": {
    "colab": {
     "base_uri": "https://localhost:8080/",
     "height": 34
    },
    "id": "8PB07imLL9gz",
    "outputId": "e9ddf886-39ed-4f35-dd80-64a19d2eec9b"
   },
   "outputs": [
    {
     "name": "stdout",
     "output_type": "stream",
     "text": [
      "{0: 0, 2: 4, 4: 16}\n"
     ]
    }
   ],
   "source": [
    "nums = [0, 1, 2, 3, 4]\n",
    "even_num_to_square = {x: x ** 2 for x in nums if x % 2 == 0}\n",
    "print(even_num_to_square)"
   ]
  },
  {
   "cell_type": "markdown",
   "metadata": {
    "id": "V9MHfUdvL9g2"
   },
   "source": [
    "#### Sets"
   ]
  },
  {
   "cell_type": "markdown",
   "metadata": {
    "id": "Rpm4UtNpL9g2"
   },
   "source": [
    "A set is an unordered collection of distinct elements. As a simple example, consider the following:"
   ]
  },
  {
   "cell_type": "code",
   "execution_count": 47,
   "metadata": {
    "colab": {
     "base_uri": "https://localhost:8080/",
     "height": 52
    },
    "id": "MmyaniLsL9g2",
    "outputId": "8f152d48-0a07-432a-cf98-8de4fd57ddbb"
   },
   "outputs": [
    {
     "name": "stdout",
     "output_type": "stream",
     "text": [
      "True\n",
      "False\n"
     ]
    }
   ],
   "source": [
    "animals = {'cat', 'dog'}\n",
    "print('cat' in animals)   # Check if an element is in a set; prints \"True\"\n",
    "print('fish' in animals)  # prints \"False\"\n"
   ]
  },
  {
   "cell_type": "code",
   "execution_count": 48,
   "metadata": {
    "colab": {
     "base_uri": "https://localhost:8080/",
     "height": 52
    },
    "id": "ElJEyK86L9g6",
    "outputId": "b9d7dab9-5a98-41cd-efbc-786d0c4377f7"
   },
   "outputs": [
    {
     "name": "stdout",
     "output_type": "stream",
     "text": [
      "True\n",
      "3\n"
     ]
    }
   ],
   "source": [
    "animals.add('fish')       # Add an element to a set\n",
    "print('fish' in animals)\n",
    "print(len(animals))       # Number of elements in a set;"
   ]
  },
  {
   "cell_type": "code",
   "execution_count": 49,
   "metadata": {
    "colab": {
     "base_uri": "https://localhost:8080/",
     "height": 52
    },
    "id": "5uGmrxdPL9g9",
    "outputId": "e644d24c-26c6-4b43-ab15-8aa81fe884d4"
   },
   "outputs": [
    {
     "name": "stdout",
     "output_type": "stream",
     "text": [
      "3\n",
      "2\n"
     ]
    }
   ],
   "source": [
    "animals.add('cat')        # Adding an element that is already in the set does nothing\n",
    "print(len(animals))       \n",
    "animals.remove('cat')     # Remove an element from a set\n",
    "print(len(animals))       "
   ]
  },
  {
   "cell_type": "markdown",
   "metadata": {
    "id": "zk2DbvLKL9g_"
   },
   "source": [
    "_Loops_: Iterating over a set has the same syntax as iterating over a list; however since sets are unordered, you cannot make assumptions about the order in which you visit the elements of the set:"
   ]
  },
  {
   "cell_type": "code",
   "execution_count": 50,
   "metadata": {
    "colab": {
     "base_uri": "https://localhost:8080/",
     "height": 69
    },
    "id": "K47KYNGyL9hA",
    "outputId": "4477f897-4355-4816-b39b-b93ffbac4bf0"
   },
   "outputs": [
    {
     "name": "stdout",
     "output_type": "stream",
     "text": [
      "#1: cat\n",
      "#2: dog\n",
      "#3: fish\n"
     ]
    }
   ],
   "source": [
    "animals = {'cat', 'dog', 'fish'}\n",
    "for idx, animal in enumerate(animals):\n",
    "    print('#{}: {}'.format(idx + 1, animal))"
   ]
  },
  {
   "cell_type": "markdown",
   "metadata": {
    "id": "puq4S8buL9hC"
   },
   "source": [
    "Set comprehensions: Like lists and dictionaries, we can easily construct sets using set comprehensions:"
   ]
  },
  {
   "cell_type": "code",
   "execution_count": 51,
   "metadata": {
    "colab": {
     "base_uri": "https://localhost:8080/",
     "height": 34
    },
    "id": "iw7k90k3L9hC",
    "outputId": "72d6b824-6d31-47b2-f929-4cf434590ee5"
   },
   "outputs": [
    {
     "name": "stdout",
     "output_type": "stream",
     "text": [
      "{0, 1, 2, 3, 4, 5}\n"
     ]
    }
   ],
   "source": [
    "from math import sqrt\n",
    "print({int(sqrt(x)) for x in range(30)})"
   ]
  },
  {
   "cell_type": "markdown",
   "metadata": {
    "id": "qPsHSKB1L9hF"
   },
   "source": [
    "#### Tuples"
   ]
  },
  {
   "cell_type": "markdown",
   "metadata": {
    "id": "kucc0LKVL9hG"
   },
   "source": [
    "A tuple is an (immutable) ordered list of values. A tuple is in many ways similar to a list; one of the most important differences is that tuples can be used as keys in dictionaries and as elements of sets, while lists cannot. Here is a trivial example:"
   ]
  },
  {
   "cell_type": "code",
   "execution_count": 52,
   "metadata": {
    "colab": {
     "base_uri": "https://localhost:8080/",
     "height": 69
    },
    "id": "9wHUyTKxL9hH",
    "outputId": "cdc5f620-04fe-4b0b-df7a-55b061d23d88"
   },
   "outputs": [
    {
     "name": "stdout",
     "output_type": "stream",
     "text": [
      "<class 'tuple'>\n",
      "5\n",
      "1\n"
     ]
    }
   ],
   "source": [
    "d = {(x, x + 1): x for x in range(10)}  # Create a dictionary with tuple keys\n",
    "t = (5, 6)       # Create a tuple\n",
    "print(type(t))\n",
    "print(d[t])       \n",
    "print(d[(1, 2)])"
   ]
  },
  {
   "cell_type": "code",
   "execution_count": 53,
   "metadata": {
    "colab": {
     "base_uri": "https://localhost:8080/",
     "height": 165
    },
    "id": "HoO8zYKzL9hJ",
    "outputId": "28862bfc-0298-40d7-f8c4-168e109d2d93"
   },
   "outputs": [
    {
     "ename": "TypeError",
     "evalue": "'tuple' object does not support item assignment",
     "output_type": "error",
     "traceback": [
      "\u001b[0;31m---------------------------------------------------------------------------\u001b[0m",
      "\u001b[0;31mTypeError\u001b[0m                                 Traceback (most recent call last)",
      "\u001b[0;32m<ipython-input-53-c8aeb8cd20ae>\u001b[0m in \u001b[0;36m<module>\u001b[0;34m\u001b[0m\n\u001b[0;32m----> 1\u001b[0;31m \u001b[0mt\u001b[0m\u001b[0;34m[\u001b[0m\u001b[0;36m0\u001b[0m\u001b[0;34m]\u001b[0m \u001b[0;34m=\u001b[0m \u001b[0;36m1\u001b[0m\u001b[0;34m\u001b[0m\u001b[0;34m\u001b[0m\u001b[0m\n\u001b[0m",
      "\u001b[0;31mTypeError\u001b[0m: 'tuple' object does not support item assignment"
     ]
    }
   ],
   "source": [
    "t[0] = 1"
   ]
  },
  {
   "cell_type": "markdown",
   "metadata": {
    "id": "AXA4jrEOL9hM"
   },
   "source": [
    "### Functions"
   ]
  },
  {
   "cell_type": "markdown",
   "metadata": {
    "id": "WaRms-QfL9hN"
   },
   "source": [
    "Python functions are defined using the `def` keyword. For example:"
   ]
  },
  {
   "cell_type": "code",
   "execution_count": 54,
   "metadata": {
    "colab": {
     "base_uri": "https://localhost:8080/",
     "height": 69
    },
    "id": "kiMDUr58L9hN",
    "outputId": "9f53bf9a-7b2a-4c51-9def-398e4677cd6c"
   },
   "outputs": [
    {
     "name": "stdout",
     "output_type": "stream",
     "text": [
      "negative\n",
      "zero\n",
      "positive\n"
     ]
    }
   ],
   "source": [
    "def sign(x):\n",
    "    if x > 0:\n",
    "        return 'positive'\n",
    "    elif x < 0:\n",
    "        return 'negative'\n",
    "    else:\n",
    "        return 'zero'\n",
    "\n",
    "for x in [-1, 0, 1]:\n",
    "    print(sign(x))"
   ]
  },
  {
   "cell_type": "markdown",
   "metadata": {
    "id": "U-QJFt8TL9hR"
   },
   "source": [
    "We will often define functions to take optional keyword arguments, like this:"
   ]
  },
  {
   "cell_type": "code",
   "execution_count": 55,
   "metadata": {
    "colab": {
     "base_uri": "https://localhost:8080/",
     "height": 52
    },
    "id": "PfsZ3DazL9hR",
    "outputId": "6e6af832-67d8-4d8c-949b-335927684ae3"
   },
   "outputs": [
    {
     "name": "stdout",
     "output_type": "stream",
     "text": [
      "Hello, Bob!\n",
      "HELLO, FRED\n"
     ]
    }
   ],
   "source": [
    "def hello(name, loud=False):\n",
    "    if loud:\n",
    "        print('HELLO, {}'.format(name.upper()))\n",
    "    else:\n",
    "        print('Hello, {}!'.format(name))\n",
    "\n",
    "hello('Bob')\n",
    "hello('Fred', loud=True)"
   ]
  },
  {
   "cell_type": "markdown",
   "metadata": {
    "id": "ObA9PRtQL9hT"
   },
   "source": [
    "### Classes"
   ]
  },
  {
   "cell_type": "markdown",
   "metadata": {
    "id": "hAzL_lTkL9hU"
   },
   "source": [
    "The syntax for defining classes in Python is straightforward:"
   ]
  },
  {
   "cell_type": "code",
   "execution_count": 56,
   "metadata": {
    "colab": {
     "base_uri": "https://localhost:8080/",
     "height": 52
    },
    "id": "RWdbaGigL9hU",
    "outputId": "4f6615c5-75a7-4ce4-8ea1-1e7f5e4e9fc3"
   },
   "outputs": [
    {
     "name": "stdout",
     "output_type": "stream",
     "text": [
      "Hello, Fred!\n",
      "HELLO, FRED\n"
     ]
    }
   ],
   "source": [
    "class Greeter:\n",
    "\n",
    "    # Constructor\n",
    "    def __init__(self, name):\n",
    "        self.name = name  # Create an instance variable\n",
    "\n",
    "    # Instance method\n",
    "    def greet(self, loud=False):\n",
    "        if loud:\n",
    "          print('HELLO, {}'.format(self.name.upper()))\n",
    "        else:\n",
    "          print('Hello, {}!'.format(self.name))\n",
    "\n",
    "g = Greeter('Fred')  # Construct an instance of the Greeter class\n",
    "g.greet()            # Call an instance method; prints \"Hello, Fred\"\n",
    "g.greet(loud=True)   # Call an instance method; prints \"HELLO, FRED!\""
   ]
  },
  {
   "cell_type": "markdown",
   "metadata": {
    "id": "3cfrOV4dL9hW"
   },
   "source": [
    "## Numpy"
   ]
  },
  {
   "cell_type": "markdown",
   "metadata": {
    "id": "fY12nHhyL9hX"
   },
   "source": [
    "Numpy is the core library for scientific computing in Python. It provides a high-performance multidimensional array object, and tools for working with these arrays. If you are already familiar with MATLAB, you might find this [tutorial](https://numpy.org/doc/stable/user/numpy-for-matlab-users.html) useful to get started with Numpy."
   ]
  },
  {
   "cell_type": "markdown",
   "metadata": {
    "id": "lZMyAdqhL9hY"
   },
   "source": [
    "To use Numpy, we first need to import the `numpy` package:"
   ]
  },
  {
   "cell_type": "code",
   "execution_count": 57,
   "metadata": {
    "id": "58QdX8BLL9hZ"
   },
   "outputs": [],
   "source": [
    "import numpy as np"
   ]
  },
  {
   "cell_type": "markdown",
   "metadata": {
    "id": "DDx6v1EdL9hb"
   },
   "source": [
    "### Arrays"
   ]
  },
  {
   "cell_type": "markdown",
   "metadata": {
    "id": "f-Zv3f7LL9hc"
   },
   "source": [
    "A numpy array is a grid of values, all of the same type, and is indexed by a tuple of nonnegative integers. The number of dimensions is the rank of the array; the shape of an array is a tuple of integers giving the size of the array along each dimension."
   ]
  },
  {
   "cell_type": "markdown",
   "metadata": {
    "id": "_eMTRnZRL9hc"
   },
   "source": [
    "We can initialize numpy arrays from nested Python lists, and access elements using square brackets:"
   ]
  },
  {
   "cell_type": "code",
   "execution_count": 58,
   "metadata": {
    "colab": {
     "base_uri": "https://localhost:8080/",
     "height": 52
    },
    "id": "-l3JrGxCL9hc",
    "outputId": "8d9dad18-c734-4a8a-ca8c-44060a40fb79"
   },
   "outputs": [
    {
     "name": "stdout",
     "output_type": "stream",
     "text": [
      "<class 'numpy.ndarray'> (3,) 1 2 3\n",
      "[5 2 3]\n"
     ]
    }
   ],
   "source": [
    "a = np.array([1, 2, 3])  # Create a rank 1 array -> vector\n",
    "print(type(a), a.shape, a[0], a[1], a[2])\n",
    "a[0] = 5                 # Change an element of the array\n",
    "print(a)                  "
   ]
  },
  {
   "cell_type": "code",
   "execution_count": 59,
   "metadata": {
    "colab": {
     "base_uri": "https://localhost:8080/",
     "height": 52
    },
    "id": "ma6mk-kdL9hh",
    "outputId": "0b54ff2f-e7f1-4b30-c653-9bf81cb8fbb0"
   },
   "outputs": [
    {
     "name": "stdout",
     "output_type": "stream",
     "text": [
      "[[1 2 3]\n",
      " [4 5 6]]\n"
     ]
    }
   ],
   "source": [
    "b = np.array([[1, 2, 3],[4, 5, 6]])   # Create a rank 2 array -> matrix\n",
    "print(b)"
   ]
  },
  {
   "cell_type": "code",
   "execution_count": 60,
   "metadata": {
    "colab": {
     "base_uri": "https://localhost:8080/",
     "height": 52
    },
    "id": "ymfSHAwtL9hj",
    "outputId": "5bd292d8-c751-43b9-d480-f357dde52342"
   },
   "outputs": [
    {
     "name": "stdout",
     "output_type": "stream",
     "text": [
      "(2, 3)\n",
      "1 2 4\n"
     ]
    }
   ],
   "source": [
    "print(b.shape)\n",
    "print(b[0, 0], b[0, 1], b[1, 0])"
   ]
  },
  {
   "cell_type": "markdown",
   "metadata": {
    "id": "F2qwdyvuL9hn"
   },
   "source": [
    "Numpy also provides many functions to create arrays:"
   ]
  },
  {
   "cell_type": "code",
   "execution_count": 61,
   "metadata": {
    "colab": {
     "base_uri": "https://localhost:8080/",
     "height": 52
    },
    "id": "mVTN_EBqL9hn",
    "outputId": "d267c65f-ba90-4043-cedb-f468ab1bcc5d"
   },
   "outputs": [
    {
     "name": "stdout",
     "output_type": "stream",
     "text": [
      "[[0. 0.]\n",
      " [0. 0.]]\n"
     ]
    }
   ],
   "source": [
    "a = np.zeros((2, 2))   # Create an array of all zeros\n",
    "print(a)"
   ]
  },
  {
   "cell_type": "code",
   "execution_count": 62,
   "metadata": {
    "colab": {
     "base_uri": "https://localhost:8080/",
     "height": 34
    },
    "id": "skiKlNmlL9h5",
    "outputId": "7d1ec1b5-a1fe-4f44-cbe3-cdeacad425f1"
   },
   "outputs": [
    {
     "name": "stdout",
     "output_type": "stream",
     "text": [
      "[[1. 1.]]\n"
     ]
    }
   ],
   "source": [
    "b = np.ones((1, 2))    # Create an array of all ones\n",
    "print(b)"
   ]
  },
  {
   "cell_type": "code",
   "execution_count": 63,
   "metadata": {
    "colab": {
     "base_uri": "https://localhost:8080/",
     "height": 52
    },
    "id": "HtFsr03bL9h7",
    "outputId": "2688b157-2fad-4fc6-f20b-8633207f0326"
   },
   "outputs": [
    {
     "name": "stdout",
     "output_type": "stream",
     "text": [
      "[[7 7]\n",
      " [7 7]]\n"
     ]
    }
   ],
   "source": [
    "c = np.full((2, 2), 7) # Create a constant array\n",
    "print(c)"
   ]
  },
  {
   "cell_type": "code",
   "execution_count": 64,
   "metadata": {
    "colab": {
     "base_uri": "https://localhost:8080/",
     "height": 52
    },
    "id": "-QcALHvkL9h9",
    "outputId": "5035d6fe-cb7e-4222-c972-55fe23c9d4c0"
   },
   "outputs": [
    {
     "name": "stdout",
     "output_type": "stream",
     "text": [
      "[[1. 0.]\n",
      " [0. 1.]]\n"
     ]
    }
   ],
   "source": [
    "d = np.eye(2)          # Create a 2x2 identity matrix\n",
    "print(d)"
   ]
  },
  {
   "cell_type": "code",
   "execution_count": 65,
   "metadata": {
    "colab": {
     "base_uri": "https://localhost:8080/",
     "height": 52
    },
    "id": "RCpaYg9qL9iA",
    "outputId": "25f0b387-39cf-42f3-8701-de860cc75e2e"
   },
   "outputs": [
    {
     "name": "stdout",
     "output_type": "stream",
     "text": [
      "[[0.72512861 0.26445469]\n",
      " [0.38039757 0.65475468]]\n"
     ]
    }
   ],
   "source": [
    "e = np.random.random((2, 2)) # Create an array filled with random values\n",
    "print(e)"
   ]
  },
  {
   "cell_type": "code",
   "execution_count": 66,
   "metadata": {},
   "outputs": [
    {
     "name": "stdout",
     "output_type": "stream",
     "text": [
      "[[1 0]\n",
      " [0 2]]\n"
     ]
    }
   ],
   "source": [
    "f = np.diag([1,2])     # Create a diagonal matrix with given entries\n",
    "print(f)"
   ]
  },
  {
   "cell_type": "code",
   "execution_count": 67,
   "metadata": {},
   "outputs": [
    {
     "name": "stdout",
     "output_type": "stream",
     "text": [
      "[[0.72512861 0.26445469]\n",
      " [0.38039757 0.65475468]]\n"
     ]
    }
   ],
   "source": [
    "g = np.empty((2, 2))   # Create an array without overwritting the memory\n",
    "print(g)"
   ]
  },
  {
   "cell_type": "markdown",
   "metadata": {},
   "source": [
    "Numpy arrays can also be created from a refereance array."
   ]
  },
  {
   "cell_type": "code",
   "execution_count": 68,
   "metadata": {},
   "outputs": [
    {
     "name": "stdout",
     "output_type": "stream",
     "text": [
      "[[0. 0.]\n",
      " [0. 0.]]\n",
      "[[1. 1.]\n",
      " [1. 1.]]\n",
      "[[1. 1.]\n",
      " [1. 1.]]\n"
     ]
    }
   ],
   "source": [
    "h = np.zeros_like(g)  # Create an array of all zeros of the same shape as g\n",
    "print(h)\n",
    "j = np.ones_like(g)   # Create an array of all ones of the same shape as g\n",
    "print(j)\n",
    "i = np.empty_like(g)  # Create an uninitialized array of the same shape as g\n",
    "print(i)"
   ]
  },
  {
   "cell_type": "markdown",
   "metadata": {
    "id": "jI5qcSDfL9iC"
   },
   "source": [
    "### Array indexing"
   ]
  },
  {
   "cell_type": "markdown",
   "metadata": {
    "id": "M-E4MUeVL9iC"
   },
   "source": [
    "Numpy offers several ways to index into arrays."
   ]
  },
  {
   "cell_type": "markdown",
   "metadata": {
    "id": "QYv4JyIEL9iD"
   },
   "source": [
    "Slicing: Similar to Python lists, numpy arrays can be sliced. Since arrays may be multidimensional, you must specify a slice for each dimension of the array:"
   ]
  },
  {
   "cell_type": "code",
   "execution_count": 69,
   "metadata": {
    "colab": {
     "base_uri": "https://localhost:8080/",
     "height": 52
    },
    "id": "wLWA0udwL9iD",
    "outputId": "99f08618-c513-4982-8982-b146fc72dab3"
   },
   "outputs": [
    {
     "name": "stdout",
     "output_type": "stream",
     "text": [
      "[[2 3]\n",
      " [6 7]]\n"
     ]
    }
   ],
   "source": [
    "import numpy as np\n",
    "\n",
    "# Create the following rank 2 array with shape (3, 4)\n",
    "# [[ 1  2  3  4]\n",
    "#  [ 5  6  7  8]\n",
    "#  [ 9 10 11 12]]\n",
    "a = np.array([[1,2,3,4], [5,6,7,8], [9,10,11,12]])\n",
    "\n",
    "# Use slicing to pull out the subarray consisting of the first 2 rows\n",
    "# and columns 1 and 2; b is the following array of shape (2, 2):\n",
    "# [[2 3]\n",
    "#  [6 7]]\n",
    "b = a[:2, 1:3]\n",
    "print(b)"
   ]
  },
  {
   "cell_type": "markdown",
   "metadata": {
    "id": "KahhtZKYL9iF"
   },
   "source": [
    "A slice of an array is a view into the same data, so modifying it will modify the original array."
   ]
  },
  {
   "cell_type": "code",
   "execution_count": 70,
   "metadata": {
    "colab": {
     "base_uri": "https://localhost:8080/",
     "height": 52
    },
    "id": "1kmtaFHuL9iG",
    "outputId": "ee3ab60c-4064-4a9e-b04c-453d3955f1d1"
   },
   "outputs": [
    {
     "name": "stdout",
     "output_type": "stream",
     "text": [
      "2\n",
      "77\n"
     ]
    }
   ],
   "source": [
    "print(a[0, 1])\n",
    "b[0, 0] = 77    # b[0, 0] is the same piece of data as a[0, 1]\n",
    "print(a[0, 1]) "
   ]
  },
  {
   "cell_type": "markdown",
   "metadata": {
    "id": "_Zcf3zi-L9iI"
   },
   "source": [
    "You can also mix integer indexing with slice indexing. However, doing so will yield an array of lower rank than the original array. Note that this is quite different from the way that MATLAB handles array slicing:"
   ]
  },
  {
   "cell_type": "code",
   "execution_count": 71,
   "metadata": {
    "colab": {
     "base_uri": "https://localhost:8080/",
     "height": 69
    },
    "id": "G6lfbPuxL9iJ",
    "outputId": "a225fe9d-2a29-4e14-a243-2b7d583bd4bc"
   },
   "outputs": [
    {
     "name": "stdout",
     "output_type": "stream",
     "text": [
      "[[ 1  2  3  4]\n",
      " [ 5  6  7  8]\n",
      " [ 9 10 11 12]]\n"
     ]
    }
   ],
   "source": [
    "# Create the following rank 2 array with shape (3, 4)\n",
    "a = np.array([[1,2,3,4], [5,6,7,8], [9,10,11,12]])\n",
    "print(a)"
   ]
  },
  {
   "cell_type": "markdown",
   "metadata": {
    "id": "NCye3NXhL9iL"
   },
   "source": [
    "Two ways of accessing the data in the middle row of the array.\n",
    "Mixing integer indexing with slices yields an array of lower rank,\n",
    "while using only slices yields an array of the same rank as the\n",
    "original array:"
   ]
  },
  {
   "cell_type": "code",
   "execution_count": 72,
   "metadata": {
    "colab": {
     "base_uri": "https://localhost:8080/",
     "height": 69
    },
    "id": "EOiEMsmNL9iL",
    "outputId": "ab2ebe48-9002-45a8-9462-fd490b467f40"
   },
   "outputs": [
    {
     "name": "stdout",
     "output_type": "stream",
     "text": [
      "[5 6 7 8] (4,)\n",
      "[[5 6 7 8]] (1, 4)\n",
      "[[5 6 7 8]] (1, 4)\n"
     ]
    }
   ],
   "source": [
    "row_r1 = a[1, :]    # Rank 1 view of the second row of a  \n",
    "row_r2 = a[1:2, :]  # Rank 2 view of the second row of a\n",
    "row_r3 = a[[1], :]  # Rank 2 view of the second row of a\n",
    "print(row_r1, row_r1.shape)\n",
    "print(row_r2, row_r2.shape)\n",
    "print(row_r3, row_r3.shape)"
   ]
  },
  {
   "cell_type": "code",
   "execution_count": 73,
   "metadata": {
    "colab": {
     "base_uri": "https://localhost:8080/",
     "height": 104
    },
    "id": "JXu73pfDL9iN",
    "outputId": "6c589b85-e9b0-4c13-a39d-4cd9fb2f41ac"
   },
   "outputs": [
    {
     "name": "stdout",
     "output_type": "stream",
     "text": [
      "[ 2  6 10] (3,)\n",
      "\n",
      "[[ 2]\n",
      " [ 6]\n",
      " [10]] (3, 1)\n"
     ]
    }
   ],
   "source": [
    "# We can make the same distinction when accessing columns of an array:\n",
    "col_r1 = a[:, 1]\n",
    "col_r2 = a[:, 1:2]\n",
    "print(col_r1, col_r1.shape)\n",
    "print()\n",
    "print(col_r2, col_r2.shape)"
   ]
  },
  {
   "cell_type": "markdown",
   "metadata": {
    "id": "VP3916bOL9iP"
   },
   "source": [
    "Integer array indexing: When you index into numpy arrays using slicing, the resulting array view will always be a subarray of the original array. In contrast, integer array indexing allows you to construct arbitrary arrays using the data from another array. Here is an example:"
   ]
  },
  {
   "cell_type": "code",
   "execution_count": 74,
   "metadata": {
    "colab": {
     "base_uri": "https://localhost:8080/",
     "height": 52
    },
    "id": "TBnWonIDL9iP",
    "outputId": "c29fa2cd-234e-4765-c70a-6889acc63573"
   },
   "outputs": [
    {
     "name": "stdout",
     "output_type": "stream",
     "text": [
      "[1 4 5]\n",
      "[1 4 5]\n"
     ]
    }
   ],
   "source": [
    "a = np.array([[1,2], [3, 4], [5, 6]])\n",
    "\n",
    "# An example of integer array indexing.\n",
    "# The returned array will have shape (3,) and \n",
    "print(a[[0, 1, 2], [0, 1, 0]])\n",
    "\n",
    "# The above example of integer array indexing is equivalent to this:\n",
    "print(np.array([a[0, 0], a[1, 1], a[2, 0]]))"
   ]
  },
  {
   "cell_type": "code",
   "execution_count": 75,
   "metadata": {
    "colab": {
     "base_uri": "https://localhost:8080/",
     "height": 52
    },
    "id": "n7vuati-L9iR",
    "outputId": "c3e9ba14-f66e-4202-999e-2e1aed5bd631"
   },
   "outputs": [
    {
     "name": "stdout",
     "output_type": "stream",
     "text": [
      "[2 2]\n",
      "[2 2]\n"
     ]
    }
   ],
   "source": [
    "# When using integer array indexing, you can reuse the same\n",
    "# element from the source array:\n",
    "print(a[[0, 0], [1, 1]])\n",
    "\n",
    "# Equivalent to the previous integer array indexing example\n",
    "print(np.array([a[0, 1], a[0, 1]]))"
   ]
  },
  {
   "cell_type": "markdown",
   "metadata": {
    "id": "kaipSLafL9iU"
   },
   "source": [
    "One useful trick with integer array indexing is selecting or mutating one element from each row of a matrix:"
   ]
  },
  {
   "cell_type": "code",
   "execution_count": 76,
   "metadata": {
    "colab": {
     "base_uri": "https://localhost:8080/",
     "height": 86
    },
    "id": "ehqsV7TXL9iU",
    "outputId": "de509c40-4ee4-4b7c-e75d-1a936a3350e7"
   },
   "outputs": [
    {
     "name": "stdout",
     "output_type": "stream",
     "text": [
      "[[ 1  2  3]\n",
      " [ 4  5  6]\n",
      " [ 7  8  9]\n",
      " [10 11 12]]\n"
     ]
    }
   ],
   "source": [
    "# Create a new array from which we will select elements\n",
    "a = np.array([[1,2,3], [4,5,6], [7,8,9], [10, 11, 12]])\n",
    "print(a)"
   ]
  },
  {
   "cell_type": "code",
   "execution_count": 77,
   "metadata": {
    "colab": {
     "base_uri": "https://localhost:8080/",
     "height": 34
    },
    "id": "pAPOoqy5L9iV",
    "outputId": "f812e29b-9218-4767-d3a8-e9854e754e68"
   },
   "outputs": [
    {
     "name": "stdout",
     "output_type": "stream",
     "text": [
      "[ 1  6  7 11]\n"
     ]
    }
   ],
   "source": [
    "# Create an array of indices\n",
    "b = np.array([0, 2, 0, 1])\n",
    "\n",
    "# Select one element from each row of a using the indices in b\n",
    "print(a[np.arange(4), b])  # Prints \"[ 1  6  7 11]\""
   ]
  },
  {
   "cell_type": "code",
   "execution_count": 78,
   "metadata": {
    "colab": {
     "base_uri": "https://localhost:8080/",
     "height": 86
    },
    "id": "6v1PdI1DL9ib",
    "outputId": "89f50f82-de1b-4417-e55c-edbc0ee07584"
   },
   "outputs": [
    {
     "name": "stdout",
     "output_type": "stream",
     "text": [
      "[[11  2  3]\n",
      " [ 4  5 16]\n",
      " [17  8  9]\n",
      " [10 21 12]]\n"
     ]
    }
   ],
   "source": [
    "# Mutate one element from each row of a using the indices in b\n",
    "a[np.arange(4), b] += 10\n",
    "print(a)"
   ]
  },
  {
   "cell_type": "markdown",
   "metadata": {
    "id": "kaE8dBGgL9id"
   },
   "source": [
    "Boolean array indexing: Boolean array indexing lets you pick out arbitrary elements of an array. Frequently this type of indexing is used to select the elements of an array that satisfy some condition. Here is an example:"
   ]
  },
  {
   "cell_type": "code",
   "execution_count": 79,
   "metadata": {
    "colab": {
     "base_uri": "https://localhost:8080/",
     "height": 69
    },
    "id": "32PusjtKL9id",
    "outputId": "8782e8ec-b78d-44d7-8141-23e39750b854"
   },
   "outputs": [
    {
     "name": "stdout",
     "output_type": "stream",
     "text": [
      "[[False False]\n",
      " [ True  True]\n",
      " [ True  True]]\n"
     ]
    }
   ],
   "source": [
    "import numpy as np\n",
    "\n",
    "a = np.array([[1,2], [3, 4], [5, 6]])\n",
    "\n",
    "bool_idx = (a > 2)  # Find the elements of a that are bigger than 2;\n",
    "                    # this returns a numpy array of Booleans of the same\n",
    "                    # shape as a, where each slot of bool_idx tells\n",
    "                    # whether that element of a is > 2.\n",
    "\n",
    "print(bool_idx)"
   ]
  },
  {
   "cell_type": "code",
   "execution_count": 80,
   "metadata": {
    "colab": {
     "base_uri": "https://localhost:8080/",
     "height": 52
    },
    "id": "cb2IRMXaL9if",
    "outputId": "5983f208-3738-472d-d6ab-11fe85b36c95"
   },
   "outputs": [
    {
     "name": "stdout",
     "output_type": "stream",
     "text": [
      "[3 4 5 6]\n",
      "[3 4 5 6]\n"
     ]
    }
   ],
   "source": [
    "# We use boolean array indexing to construct a rank 1 array\n",
    "# consisting of the elements of a corresponding to the True values\n",
    "# of bool_idx\n",
    "print(a[bool_idx])\n",
    "\n",
    "# We can do all of the above in a single concise statement:\n",
    "print(a[a > 2])"
   ]
  },
  {
   "cell_type": "markdown",
   "metadata": {
    "id": "CdofMonAL9ih"
   },
   "source": [
    "For brevity we have left out a lot of details about numpy array indexing; if you want to know more you should read the [documentation](https://numpy.org/doc/stable/reference/arrays.indexing.html)."
   ]
  },
  {
   "cell_type": "markdown",
   "metadata": {
    "id": "jTctwqdQL9ih"
   },
   "source": [
    "### Datatypes"
   ]
  },
  {
   "cell_type": "markdown",
   "metadata": {
    "id": "kSZQ1WkIL9ih"
   },
   "source": [
    "Every numpy array is a grid of elements of the same type. Numpy provides a large set of numeric datatypes that you can use to construct arrays. Numpy tries to guess a datatype when you create an array, but functions that construct arrays usually also include an optional argument to explicitly specify the datatype. Here is an example:"
   ]
  },
  {
   "cell_type": "code",
   "execution_count": 81,
   "metadata": {
    "colab": {
     "base_uri": "https://localhost:8080/",
     "height": 34
    },
    "id": "4za4O0m5L9ih",
    "outputId": "2ea4fb80-a4df-43f9-c162-5665895c13ae"
   },
   "outputs": [
    {
     "name": "stdout",
     "output_type": "stream",
     "text": [
      "int64 float64 int64\n"
     ]
    }
   ],
   "source": [
    "x = np.array([1, 2])      # Let numpy choose the datatype\n",
    "y = np.array([1.0, 2.0])  # Let numpy choose the datatype\n",
    "z = np.array([1, 2], dtype=np.int64)  # Force a particular datatype\n",
    "\n",
    "print(x.dtype, y.dtype, z.dtype)"
   ]
  },
  {
   "cell_type": "markdown",
   "metadata": {
    "id": "RLVIsZQpL9ik"
   },
   "source": [
    "You can read all about numpy datatypes in the [documentation](https://numpy.org/doc/stable/reference/arrays.dtypes.html)."
   ]
  },
  {
   "cell_type": "markdown",
   "metadata": {
    "id": "TuB-fdhIL9ik"
   },
   "source": [
    "### Array math"
   ]
  },
  {
   "cell_type": "markdown",
   "metadata": {
    "id": "18e8V8elL9ik"
   },
   "source": [
    "Basic mathematical functions operate elementwise on arrays, and are available both as operator overloads and as functions in the numpy module:"
   ]
  },
  {
   "cell_type": "code",
   "execution_count": 82,
   "metadata": {
    "colab": {
     "base_uri": "https://localhost:8080/",
     "height": 86
    },
    "id": "gHKvBrSKL9il",
    "outputId": "a8a924b1-9d60-4b68-8fd3-e4657ae3f08b"
   },
   "outputs": [
    {
     "name": "stdout",
     "output_type": "stream",
     "text": [
      "[[ 6.  8.]\n",
      " [10. 12.]]\n",
      "[[ 6.  8.]\n",
      " [10. 12.]]\n"
     ]
    }
   ],
   "source": [
    "x = np.array([[1,2],[3,4]], dtype=np.float64)\n",
    "y = np.array([[5,6],[7,8]], dtype=np.float64)\n",
    "\n",
    "# Elementwise sum; both produce the array\n",
    "print(x + y)\n",
    "print(np.add(x, y))"
   ]
  },
  {
   "cell_type": "code",
   "execution_count": 83,
   "metadata": {
    "colab": {
     "base_uri": "https://localhost:8080/",
     "height": 86
    },
    "id": "1fZtIAMxL9in",
    "outputId": "122f1380-6144-4d6c-9d31-f62d839889a2"
   },
   "outputs": [
    {
     "name": "stdout",
     "output_type": "stream",
     "text": [
      "[[-4. -4.]\n",
      " [-4. -4.]]\n",
      "[[-4. -4.]\n",
      " [-4. -4.]]\n"
     ]
    }
   ],
   "source": [
    "# Elementwise difference; both produce the array\n",
    "print(x - y)\n",
    "print(np.subtract(x, y))"
   ]
  },
  {
   "cell_type": "code",
   "execution_count": 84,
   "metadata": {
    "colab": {
     "base_uri": "https://localhost:8080/",
     "height": 86
    },
    "id": "nil4AScML9io",
    "outputId": "038c8bb2-122b-4e59-c0a8-a091014fe68e"
   },
   "outputs": [
    {
     "name": "stdout",
     "output_type": "stream",
     "text": [
      "[[ 5. 12.]\n",
      " [21. 32.]]\n",
      "[[ 5. 12.]\n",
      " [21. 32.]]\n"
     ]
    }
   ],
   "source": [
    "# Elementwise product; both produce the array\n",
    "print(x * y)\n",
    "print(np.multiply(x, y))"
   ]
  },
  {
   "cell_type": "code",
   "execution_count": 85,
   "metadata": {
    "colab": {
     "base_uri": "https://localhost:8080/",
     "height": 86
    },
    "id": "0JoA4lH6L9ip",
    "outputId": "12351a74-7871-4bc2-97ce-a508bf4810da"
   },
   "outputs": [
    {
     "name": "stdout",
     "output_type": "stream",
     "text": [
      "[[0.2        0.33333333]\n",
      " [0.42857143 0.5       ]]\n",
      "[[0.2        0.33333333]\n",
      " [0.42857143 0.5       ]]\n"
     ]
    }
   ],
   "source": [
    "# Elementwise division; both produce the array\n",
    "# [[ 0.2         0.33333333]\n",
    "#  [ 0.42857143  0.5       ]]\n",
    "print(x / y)\n",
    "print(np.divide(x, y))"
   ]
  },
  {
   "cell_type": "code",
   "execution_count": 86,
   "metadata": {
    "colab": {
     "base_uri": "https://localhost:8080/",
     "height": 52
    },
    "id": "g0iZuA6bL9ir",
    "outputId": "29927dda-4167-4aa8-fbda-9008b09e4356"
   },
   "outputs": [
    {
     "name": "stdout",
     "output_type": "stream",
     "text": [
      "[[1.         1.41421356]\n",
      " [1.73205081 2.        ]]\n"
     ]
    }
   ],
   "source": [
    "# Elementwise square root; produces the array\n",
    "# [[ 1.          1.41421356]\n",
    "#  [ 1.73205081  2.        ]]\n",
    "print(np.sqrt(x))"
   ]
  },
  {
   "cell_type": "markdown",
   "metadata": {
    "id": "a5d_uujuL9it"
   },
   "source": [
    "Note that unlike MATLAB, `*` is elementwise multiplication, not matrix multiplication. We instead use the dot function to compute inner products of vectors, to multiply a vector by a matrix, and to multiply matrices. dot is available both as a function in the numpy module and as an instance method of array objects:"
   ]
  },
  {
   "cell_type": "code",
   "execution_count": 87,
   "metadata": {
    "colab": {
     "base_uri": "https://localhost:8080/",
     "height": 52
    },
    "id": "I3FnmoSeL9iu",
    "outputId": "46f4575a-2e5e-4347-a34e-0cc5bd280110"
   },
   "outputs": [
    {
     "name": "stdout",
     "output_type": "stream",
     "text": [
      "219\n",
      "219\n"
     ]
    }
   ],
   "source": [
    "x = np.array([[1,2],[3,4]])\n",
    "y = np.array([[5,6],[7,8]])\n",
    "\n",
    "v = np.array([9,10])\n",
    "w = np.array([11, 12])\n",
    "\n",
    "# Inner product of vectors; both produce 219\n",
    "print(v.dot(w))\n",
    "print(np.dot(v, w))"
   ]
  },
  {
   "cell_type": "markdown",
   "metadata": {
    "id": "vmxPbrHASVeA"
   },
   "source": [
    "You can also use the `@` operator which is equivalent to numpy's `dot` operator."
   ]
  },
  {
   "cell_type": "code",
   "execution_count": 88,
   "metadata": {
    "colab": {
     "base_uri": "https://localhost:8080/",
     "height": 34
    },
    "id": "vyrWA-mXSdtt",
    "outputId": "a9aae545-2c93-4649-b220-b097655955f6"
   },
   "outputs": [
    {
     "name": "stdout",
     "output_type": "stream",
     "text": [
      "219\n"
     ]
    }
   ],
   "source": [
    "print(v @ w)"
   ]
  },
  {
   "cell_type": "code",
   "execution_count": 89,
   "metadata": {
    "colab": {
     "base_uri": "https://localhost:8080/",
     "height": 69
    },
    "id": "zvUODeTxL9iw",
    "outputId": "4093fc76-094f-4453-a421-a212b5226968"
   },
   "outputs": [
    {
     "name": "stdout",
     "output_type": "stream",
     "text": [
      "[29 67]\n",
      "[29 67]\n",
      "[29 67]\n"
     ]
    }
   ],
   "source": [
    "# Matrix / vector product; both produce the rank 1 array [29 67]\n",
    "print(x.dot(v))\n",
    "print(np.dot(x, v))\n",
    "print(x @ v)"
   ]
  },
  {
   "cell_type": "code",
   "execution_count": 90,
   "metadata": {
    "colab": {
     "base_uri": "https://localhost:8080/",
     "height": 121
    },
    "id": "3V_3NzNEL9iy",
    "outputId": "af2a89f9-af5d-47a6-9ad2-06a84b521b94"
   },
   "outputs": [
    {
     "name": "stdout",
     "output_type": "stream",
     "text": [
      "[[19 22]\n",
      " [43 50]]\n",
      "[[19 22]\n",
      " [43 50]]\n",
      "[[19 22]\n",
      " [43 50]]\n"
     ]
    }
   ],
   "source": [
    "# Matrix / matrix product; both produce the rank 2 array\n",
    "# [[19 22]\n",
    "#  [43 50]]\n",
    "print(x.dot(y))\n",
    "print(np.dot(x, y))\n",
    "print(x @ y)"
   ]
  },
  {
   "cell_type": "markdown",
   "metadata": {
    "id": "FbE-1If_L9i0"
   },
   "source": [
    "Numpy provides many useful functions for performing computations on arrays; one of the most useful is `sum`:"
   ]
  },
  {
   "cell_type": "code",
   "execution_count": 91,
   "metadata": {
    "colab": {
     "base_uri": "https://localhost:8080/",
     "height": 69
    },
    "id": "DZUdZvPrL9i0",
    "outputId": "99cad470-d692-4b25-91c9-a57aa25f4c6e"
   },
   "outputs": [
    {
     "name": "stdout",
     "output_type": "stream",
     "text": [
      "10\n",
      "[4 6]\n",
      "[3 7]\n"
     ]
    }
   ],
   "source": [
    "x = np.array([[1,2],[3,4]])\n",
    "\n",
    "print(np.sum(x))  # Compute sum of all elements; prints \"10\"\n",
    "print(np.sum(x, axis=0))  # Compute sum of each column; prints \"[4 6]\"\n",
    "print(np.sum(x, axis=1))  # Compute sum of each row; prints \"[3 7]\""
   ]
  },
  {
   "cell_type": "markdown",
   "metadata": {
    "id": "ahdVW4iUL9i3"
   },
   "source": [
    "You can find the full list of mathematical functions provided by numpy in the [documentation](https://numpy.org/doc/stable/reference/routines.math.html).\n",
    "\n",
    "Apart from computing mathematical functions using arrays, we frequently need to reshape or otherwise manipulate data in arrays. The simplest example of this type of operation is transposing a matrix; to transpose a matrix, simply use the T attribute of an array object:"
   ]
  },
  {
   "cell_type": "code",
   "execution_count": 92,
   "metadata": {
    "colab": {
     "base_uri": "https://localhost:8080/",
     "height": 104
    },
    "id": "63Yl1f3oL9i3",
    "outputId": "c75ac7ba-4351-42f8-a09c-a4e0d966ab50"
   },
   "outputs": [
    {
     "name": "stdout",
     "output_type": "stream",
     "text": [
      "[[1 2]\n",
      " [3 4]]\n",
      "transpose\n",
      " [[1 3]\n",
      " [2 4]]\n"
     ]
    }
   ],
   "source": [
    "print(x)\n",
    "print(\"transpose\\n\", x.T)"
   ]
  },
  {
   "cell_type": "code",
   "execution_count": 93,
   "metadata": {
    "colab": {
     "base_uri": "https://localhost:8080/",
     "height": 104
    },
    "id": "mkk03eNIL9i4",
    "outputId": "499eec5a-55b7-473a-d4aa-9d023d63885a"
   },
   "outputs": [
    {
     "name": "stdout",
     "output_type": "stream",
     "text": [
      "[[1 2 3]]\n",
      "transpose\n",
      " [[1]\n",
      " [2]\n",
      " [3]]\n"
     ]
    }
   ],
   "source": [
    "v = np.array([[1,2,3]])\n",
    "print(v )\n",
    "print(\"transpose\\n\", v.T)"
   ]
  },
  {
   "cell_type": "markdown",
   "metadata": {},
   "source": [
    "Alternatively, one could use the `np.transpose` function that allows a permutation of multiple dimensions."
   ]
  },
  {
   "cell_type": "code",
   "execution_count": 94,
   "metadata": {},
   "outputs": [
    {
     "name": "stdout",
     "output_type": "stream",
     "text": [
      "[[1]\n",
      " [2]\n",
      " [3]]\n"
     ]
    }
   ],
   "source": [
    "print(np.transpose(v, (1,0)))"
   ]
  },
  {
   "cell_type": "markdown",
   "metadata": {
    "id": "REfLrUTcL9i7"
   },
   "source": [
    "### Broadcasting"
   ]
  },
  {
   "cell_type": "markdown",
   "metadata": {
    "id": "EygGAMWqL9i7"
   },
   "source": [
    "Broadcasting is a powerful mechanism that allows numpy to work with arrays of different shapes when performing arithmetic operations. Frequently we have a smaller array and a larger array, and we want to use the smaller array multiple times to perform some operation on the larger array.\n",
    "\n",
    "For example, suppose that we want to add a constant vector to each row of a matrix. We could do it like this:"
   ]
  },
  {
   "cell_type": "code",
   "execution_count": 95,
   "metadata": {
    "colab": {
     "base_uri": "https://localhost:8080/",
     "height": 86
    },
    "id": "WEEvkV1ZL9i7",
    "outputId": "3896d03c-3ece-4aa8-f675-aef3a220574d"
   },
   "outputs": [
    {
     "name": "stdout",
     "output_type": "stream",
     "text": [
      "[[ 2  2  4]\n",
      " [ 5  5  7]\n",
      " [ 8  8 10]\n",
      " [11 11 13]]\n"
     ]
    }
   ],
   "source": [
    "# We will add the vector v to each row of the matrix x,\n",
    "# storing the result in the matrix y\n",
    "x = np.array([[1,2,3], [4,5,6], [7,8,9], [10, 11, 12]])\n",
    "v = np.array([1, 0, 1])\n",
    "y = np.empty_like(x)   # Create an empty matrix with the same shape as x\n",
    "\n",
    "# Add the vector v to each row of the matrix x with an explicit loop\n",
    "for i in range(4):\n",
    "    y[i, :] = x[i, :] + v\n",
    "\n",
    "print(y)"
   ]
  },
  {
   "cell_type": "markdown",
   "metadata": {
    "id": "2OlXXupEL9i-"
   },
   "source": [
    "This works; however when the matrix `x` is very large, computing an explicit loop in Python could be slow. Note that adding the vector v to each row of the matrix `x` is equivalent to forming a matrix `vv` by stacking multiple copies of `v` vertically, then performing elementwise summation of `x` and `vv`. We could implement this approach like this:"
   ]
  },
  {
   "cell_type": "code",
   "execution_count": 96,
   "metadata": {
    "colab": {
     "base_uri": "https://localhost:8080/",
     "height": 86
    },
    "id": "vS7UwAQQL9i-",
    "outputId": "8621e502-c25d-4a18-c973-886dbfd1df36"
   },
   "outputs": [
    {
     "name": "stdout",
     "output_type": "stream",
     "text": [
      "[[1 0 1]\n",
      " [1 0 1]\n",
      " [1 0 1]\n",
      " [1 0 1]]\n"
     ]
    }
   ],
   "source": [
    "vv = np.tile(v, (4, 1))  # Stack 4 copies of v on top of each other\n",
    "print(vv)                # Prints \"[[1 0 1]\n",
    "                         #          [1 0 1]\n",
    "                         #          [1 0 1]\n",
    "                         #          [1 0 1]]\""
   ]
  },
  {
   "cell_type": "code",
   "execution_count": 97,
   "metadata": {
    "colab": {
     "base_uri": "https://localhost:8080/",
     "height": 86
    },
    "id": "N0hJphSIL9jA",
    "outputId": "def6a757-170c-43bf-8728-732dfb133273"
   },
   "outputs": [
    {
     "name": "stdout",
     "output_type": "stream",
     "text": [
      "[[ 2  2  4]\n",
      " [ 5  5  7]\n",
      " [ 8  8 10]\n",
      " [11 11 13]]\n"
     ]
    }
   ],
   "source": [
    "y = x + vv  # Add x and vv elementwise\n",
    "print(y)"
   ]
  },
  {
   "cell_type": "markdown",
   "metadata": {
    "id": "zHos6RJnL9jB"
   },
   "source": [
    "Numpy broadcasting allows us to perform this computation without actually creating multiple copies of v. Consider this version, using broadcasting:"
   ]
  },
  {
   "cell_type": "code",
   "execution_count": 98,
   "metadata": {
    "colab": {
     "base_uri": "https://localhost:8080/",
     "height": 86
    },
    "id": "vnYFb-gYL9jC",
    "outputId": "df3bea8a-ad72-4a83-90bb-306b55c6fb93"
   },
   "outputs": [
    {
     "name": "stdout",
     "output_type": "stream",
     "text": [
      "[[ 2  2  4]\n",
      " [ 5  5  7]\n",
      " [ 8  8 10]\n",
      " [11 11 13]]\n"
     ]
    }
   ],
   "source": [
    "# We will add the vector v to each row of the matrix x,\n",
    "# storing the result in the matrix y\n",
    "x = np.array([[1, 2, 3], [4, 5, 6], [7, 8, 9], [10, 11, 12]])\n",
    "v = np.array([1, 0, 1])\n",
    "y = x + v  # Add v to each row of x using broadcasting\n",
    "print(y)"
   ]
  },
  {
   "cell_type": "markdown",
   "metadata": {
    "id": "08YyIURKL9jH"
   },
   "source": [
    "The line `y = x + v` works even though `x` has shape `(4, 3)` and `v` has shape `(3,)` due to broadcasting; this line works as if v actually had shape `(4, 3)`, where each row was a copy of `v`, and the sum was performed elementwise.\n",
    "\n",
    "Broadcasting two arrays together follows these rules:\n",
    "\n",
    "1. If the arrays do not have the same rank, prepend the shape of the lower rank array with 1s until both shapes have the same length.\n",
    "2. The two arrays are said to be compatible in a dimension if they have the same size in the dimension, or if one of the arrays has size 1 in that dimension.\n",
    "3. The arrays can be broadcast together if they are compatible in all dimensions.\n",
    "4. After broadcasting, each array behaves as if it had shape equal to the elementwise maximum of shapes of the two input arrays.\n",
    "5. In any dimension where one array had size 1 and the other array had size greater than 1, the first array behaves as if it were copied along that dimension\n",
    "\n",
    "If this explanation does not make sense, try reading the explanation from the [documentation](https://numpy.org/doc/stable/user/basics.broadcasting.html) or this [explanation](https://scipy.github.io/old-wiki/pages/EricsBroadcastingDoc).\n",
    "\n",
    "Functions that support broadcasting are known as universal functions. You can find the list of all universal functions in the [documentation](http://docs.scipy.org/doc/numpy/reference/ufuncs.html#available-ufuncs).\n",
    "\n",
    "Here are some applications of broadcasting:"
   ]
  },
  {
   "cell_type": "code",
   "execution_count": 99,
   "metadata": {
    "colab": {
     "base_uri": "https://localhost:8080/",
     "height": 69
    },
    "id": "EmQnwoM9L9jH",
    "outputId": "f59e181e-e2d4-416c-d094-c4d003ce8509"
   },
   "outputs": [
    {
     "name": "stdout",
     "output_type": "stream",
     "text": [
      "[[ 4  5]\n",
      " [ 8 10]\n",
      " [12 15]]\n"
     ]
    }
   ],
   "source": [
    "# Compute outer product of vectors\n",
    "v = np.array([1,2,3])  # v has shape (3,)\n",
    "w = np.array([4,5])    # w has shape (2,)\n",
    "# To compute an outer product, we first reshape v to be a column\n",
    "# vector of shape (3, 1); we can then broadcast it against w to yield\n",
    "# an output of shape (3, 2), which is the outer product of v and w:\n",
    "\n",
    "print(np.reshape(v, (3, 1)) * w)"
   ]
  },
  {
   "cell_type": "code",
   "execution_count": 100,
   "metadata": {
    "colab": {
     "base_uri": "https://localhost:8080/",
     "height": 52
    },
    "id": "PgotmpcnL9jK",
    "outputId": "567763d3-073a-4e3c-9ebe-6c7d2b6d3446"
   },
   "outputs": [
    {
     "name": "stdout",
     "output_type": "stream",
     "text": [
      "[[2 4 6]\n",
      " [5 7 9]]\n"
     ]
    }
   ],
   "source": [
    "# Add a vector to each row of a matrix\n",
    "x = np.array([[1,2,3], [4,5,6]])\n",
    "# x has shape (2, 3) and v has shape (3,) so they broadcast to (2, 3),\n",
    "# giving the following matrix:\n",
    "\n",
    "print(x + v)"
   ]
  },
  {
   "cell_type": "code",
   "execution_count": 101,
   "metadata": {
    "colab": {
     "base_uri": "https://localhost:8080/",
     "height": 52
    },
    "id": "T5hKS1QaL9jK",
    "outputId": "5f14ac5c-7a21-4216-e91d-cfce5720a804"
   },
   "outputs": [
    {
     "name": "stdout",
     "output_type": "stream",
     "text": [
      "[[ 5  6  7]\n",
      " [ 9 10 11]]\n"
     ]
    }
   ],
   "source": [
    "# Add a vector to each column of a matrix\n",
    "# x has shape (2, 3) and w has shape (2,).\n",
    "# If we transpose x then it has shape (3, 2) and can be broadcast\n",
    "# against w to yield a result of shape (3, 2); transposing this result\n",
    "# yields the final result of shape (2, 3) which is the matrix x with\n",
    "# the vector w added to each column. Gives the following matrix:\n",
    "\n",
    "print((x.T + w).T)"
   ]
  },
  {
   "cell_type": "code",
   "execution_count": 102,
   "metadata": {
    "colab": {
     "base_uri": "https://localhost:8080/",
     "height": 52
    },
    "id": "JDUrZUl6L9jN",
    "outputId": "53e99a89-c599-406d-9fe3-7aa35ae5fb90"
   },
   "outputs": [
    {
     "name": "stdout",
     "output_type": "stream",
     "text": [
      "[[ 5  6  7]\n",
      " [ 9 10 11]]\n"
     ]
    }
   ],
   "source": [
    "# Another solution is to reshape w to be a row vector of shape (2, 1);\n",
    "# we can then broadcast it directly against x to produce the same\n",
    "# output.\n",
    "print(x + np.reshape(w, (2, 1)))"
   ]
  },
  {
   "cell_type": "code",
   "execution_count": 103,
   "metadata": {
    "colab": {
     "base_uri": "https://localhost:8080/",
     "height": 52
    },
    "id": "VzrEo4KGL9jP",
    "outputId": "53c9d4cc-32d5-46b0-d090-53c7db57fb32"
   },
   "outputs": [
    {
     "name": "stdout",
     "output_type": "stream",
     "text": [
      "[[ 2  4  6]\n",
      " [ 8 10 12]]\n"
     ]
    }
   ],
   "source": [
    "# Multiply a matrix by a constant:\n",
    "# x has shape (2, 3). Numpy treats scalars as arrays of shape ();\n",
    "# these can be broadcast together to shape (2, 3), producing the\n",
    "# following array:\n",
    "print(x * 2)"
   ]
  },
  {
   "cell_type": "markdown",
   "metadata": {
    "id": "89e2FXxFL9jQ"
   },
   "source": [
    "Broadcasting typically makes your code more concise and faster, so you should strive to use it where possible."
   ]
  },
  {
   "cell_type": "markdown",
   "metadata": {
    "id": "iF3ZtwVNL9jQ"
   },
   "source": [
    "This brief overview has touched on many of the important things that you need to know about numpy, but is far from complete. Check out the [numpy reference](http://docs.scipy.org/doc/numpy/reference/) to find out much more about numpy."
   ]
  },
  {
   "cell_type": "markdown",
   "metadata": {},
   "source": [
    "### Einsum \n",
    "The `np.einsum` function is very handy. It often outperform array functions in terms of speed and memory efficiency, thanks to its expressive power and smart loops. On the downside, it can take a little while understand the notation and sometimes a few attempts to apply it correctly to a tricky problem.\n",
    "Have a look at (https://en.wikipedia.org/wiki/Einstein_notation) for a definition of the Einstein summation (_einsum_) convention. \n",
    "\n",
    "In short, the einsum function can be used to efficiently combine multiply, accumulate, and transpose operations. We follow the initial example in the explanatory [blog](https://ajcr.net/Basic-guide-to-einsum/).\n",
    "\n",
    "We would like to multiply the following arrays element-wise and sum accross the inner axis."
   ]
  },
  {
   "cell_type": "code",
   "execution_count": 104,
   "metadata": {},
   "outputs": [],
   "source": [
    "A = np.array([0, 1, 2])\n",
    "B = np.array([[ 0,  1,  2,  3],\n",
    "              [ 4,  5,  6,  7],\n",
    "              [ 8,  9, 10, 11]])"
   ]
  },
  {
   "cell_type": "markdown",
   "metadata": {},
   "source": [
    "Without using the `einsum` function, we could use broadcasting and the `sum` function, i.e."
   ]
  },
  {
   "cell_type": "code",
   "execution_count": 105,
   "metadata": {},
   "outputs": [
    {
     "name": "stdout",
     "output_type": "stream",
     "text": [
      "[ 0 22 76]\n"
     ]
    }
   ],
   "source": [
    "c = (A[:, np.newaxis] * B).sum(axis=1)\n",
    "print(c)"
   ]
  },
  {
   "cell_type": "markdown",
   "metadata": {},
   "source": [
    "Using the `einsum` function, the multiplication and summation can be combined using index labels and thus no temporary multiplication array is required."
   ]
  },
  {
   "cell_type": "code",
   "execution_count": 106,
   "metadata": {},
   "outputs": [
    {
     "name": "stdout",
     "output_type": "stream",
     "text": [
      "[ 0 22 76]\n"
     ]
    }
   ],
   "source": [
    "c = np.einsum('i,ij->i', A, B)\n",
    "print(c)"
   ]
  },
  {
   "cell_type": "markdown",
   "metadata": {},
   "source": [
    "Check out the `einsum` [documentation](https://numpy.org/doc/stable/reference/generated/numpy.einsum.html) to find out more about its versatility. The [blog](https://ajcr.net/Basic-guide-to-einsum/) provides some nice grahicals visualizations to simplify understanding of `einsum` labeling and its definition."
   ]
  },
  {
   "cell_type": "markdown",
   "metadata": {
    "id": "tEINf4bEL9jR"
   },
   "source": [
    "## Matplotlib"
   ]
  },
  {
   "cell_type": "markdown",
   "metadata": {
    "id": "0hgVWLaXL9jR"
   },
   "source": [
    "Matplotlib is a plotting library. In this section, we give a brief introduction to the `matplotlib.pyplot` module, which provides a plotting system similar to that of MATLAB."
   ]
  },
  {
   "cell_type": "code",
   "execution_count": 107,
   "metadata": {
    "id": "cmh_7c6KL9jR"
   },
   "outputs": [],
   "source": [
    "import matplotlib.pyplot as plt"
   ]
  },
  {
   "cell_type": "markdown",
   "metadata": {
    "id": "jOsaA5hGL9jS"
   },
   "source": [
    "By running this special iPython command, we will be displaying plots inline:"
   ]
  },
  {
   "cell_type": "code",
   "execution_count": 108,
   "metadata": {
    "id": "ijpsmwGnL9jT"
   },
   "outputs": [],
   "source": [
    "%matplotlib inline"
   ]
  },
  {
   "cell_type": "markdown",
   "metadata": {},
   "source": [
    "If we would like to interact with plots (zoom, shift, ...), could use the `notebook` backend."
   ]
  },
  {
   "cell_type": "code",
   "execution_count": 109,
   "metadata": {},
   "outputs": [],
   "source": [
    "%matplotlib notebook"
   ]
  },
  {
   "cell_type": "markdown",
   "metadata": {},
   "source": [
    "Note that the backend may be changed during each session. However, it effects all plots."
   ]
  },
  {
   "cell_type": "markdown",
   "metadata": {
    "id": "U5Z_oMoLL9jV"
   },
   "source": [
    "### Plotting"
   ]
  },
  {
   "cell_type": "markdown",
   "metadata": {
    "id": "6QyFJ7dhL9jV"
   },
   "source": [
    "The most important function in `matplotlib` is plot, which allows you to plot 2D data. Here is a simple example:"
   ]
  },
  {
   "cell_type": "code",
   "execution_count": 110,
   "metadata": {
    "colab": {
     "base_uri": "https://localhost:8080/",
     "height": 282
    },
    "id": "pua52BGeL9jW",
    "outputId": "9ac3ee0f-7ff7-463b-b901-c33d21a2b10c"
   },
   "outputs": [
    {
     "data": {
      "application/javascript": [
       "/* Put everything inside the global mpl namespace */\n",
       "/* global mpl */\n",
       "window.mpl = {};\n",
       "\n",
       "mpl.get_websocket_type = function () {\n",
       "    if (typeof WebSocket !== 'undefined') {\n",
       "        return WebSocket;\n",
       "    } else if (typeof MozWebSocket !== 'undefined') {\n",
       "        return MozWebSocket;\n",
       "    } else {\n",
       "        alert(\n",
       "            'Your browser does not have WebSocket support. ' +\n",
       "                'Please try Chrome, Safari or Firefox ≥ 6. ' +\n",
       "                'Firefox 4 and 5 are also supported but you ' +\n",
       "                'have to enable WebSockets in about:config.'\n",
       "        );\n",
       "    }\n",
       "};\n",
       "\n",
       "mpl.figure = function (figure_id, websocket, ondownload, parent_element) {\n",
       "    this.id = figure_id;\n",
       "\n",
       "    this.ws = websocket;\n",
       "\n",
       "    this.supports_binary = this.ws.binaryType !== undefined;\n",
       "\n",
       "    if (!this.supports_binary) {\n",
       "        var warnings = document.getElementById('mpl-warnings');\n",
       "        if (warnings) {\n",
       "            warnings.style.display = 'block';\n",
       "            warnings.textContent =\n",
       "                'This browser does not support binary websocket messages. ' +\n",
       "                'Performance may be slow.';\n",
       "        }\n",
       "    }\n",
       "\n",
       "    this.imageObj = new Image();\n",
       "\n",
       "    this.context = undefined;\n",
       "    this.message = undefined;\n",
       "    this.canvas = undefined;\n",
       "    this.rubberband_canvas = undefined;\n",
       "    this.rubberband_context = undefined;\n",
       "    this.format_dropdown = undefined;\n",
       "\n",
       "    this.image_mode = 'full';\n",
       "\n",
       "    this.root = document.createElement('div');\n",
       "    this.root.setAttribute('style', 'display: inline-block');\n",
       "    this._root_extra_style(this.root);\n",
       "\n",
       "    parent_element.appendChild(this.root);\n",
       "\n",
       "    this._init_header(this);\n",
       "    this._init_canvas(this);\n",
       "    this._init_toolbar(this);\n",
       "\n",
       "    var fig = this;\n",
       "\n",
       "    this.waiting = false;\n",
       "\n",
       "    this.ws.onopen = function () {\n",
       "        fig.send_message('supports_binary', { value: fig.supports_binary });\n",
       "        fig.send_message('send_image_mode', {});\n",
       "        if (fig.ratio !== 1) {\n",
       "            fig.send_message('set_dpi_ratio', { dpi_ratio: fig.ratio });\n",
       "        }\n",
       "        fig.send_message('refresh', {});\n",
       "    };\n",
       "\n",
       "    this.imageObj.onload = function () {\n",
       "        if (fig.image_mode === 'full') {\n",
       "            // Full images could contain transparency (where diff images\n",
       "            // almost always do), so we need to clear the canvas so that\n",
       "            // there is no ghosting.\n",
       "            fig.context.clearRect(0, 0, fig.canvas.width, fig.canvas.height);\n",
       "        }\n",
       "        fig.context.drawImage(fig.imageObj, 0, 0);\n",
       "    };\n",
       "\n",
       "    this.imageObj.onunload = function () {\n",
       "        fig.ws.close();\n",
       "    };\n",
       "\n",
       "    this.ws.onmessage = this._make_on_message_function(this);\n",
       "\n",
       "    this.ondownload = ondownload;\n",
       "};\n",
       "\n",
       "mpl.figure.prototype._init_header = function () {\n",
       "    var titlebar = document.createElement('div');\n",
       "    titlebar.classList =\n",
       "        'ui-dialog-titlebar ui-widget-header ui-corner-all ui-helper-clearfix';\n",
       "    var titletext = document.createElement('div');\n",
       "    titletext.classList = 'ui-dialog-title';\n",
       "    titletext.setAttribute(\n",
       "        'style',\n",
       "        'width: 100%; text-align: center; padding: 3px;'\n",
       "    );\n",
       "    titlebar.appendChild(titletext);\n",
       "    this.root.appendChild(titlebar);\n",
       "    this.header = titletext;\n",
       "};\n",
       "\n",
       "mpl.figure.prototype._canvas_extra_style = function (_canvas_div) {};\n",
       "\n",
       "mpl.figure.prototype._root_extra_style = function (_canvas_div) {};\n",
       "\n",
       "mpl.figure.prototype._init_canvas = function () {\n",
       "    var fig = this;\n",
       "\n",
       "    var canvas_div = (this.canvas_div = document.createElement('div'));\n",
       "    canvas_div.setAttribute(\n",
       "        'style',\n",
       "        'border: 1px solid #ddd;' +\n",
       "            'box-sizing: content-box;' +\n",
       "            'clear: both;' +\n",
       "            'min-height: 1px;' +\n",
       "            'min-width: 1px;' +\n",
       "            'outline: 0;' +\n",
       "            'overflow: hidden;' +\n",
       "            'position: relative;' +\n",
       "            'resize: both;'\n",
       "    );\n",
       "\n",
       "    function on_keyboard_event_closure(name) {\n",
       "        return function (event) {\n",
       "            return fig.key_event(event, name);\n",
       "        };\n",
       "    }\n",
       "\n",
       "    canvas_div.addEventListener(\n",
       "        'keydown',\n",
       "        on_keyboard_event_closure('key_press')\n",
       "    );\n",
       "    canvas_div.addEventListener(\n",
       "        'keyup',\n",
       "        on_keyboard_event_closure('key_release')\n",
       "    );\n",
       "\n",
       "    this._canvas_extra_style(canvas_div);\n",
       "    this.root.appendChild(canvas_div);\n",
       "\n",
       "    var canvas = (this.canvas = document.createElement('canvas'));\n",
       "    canvas.classList.add('mpl-canvas');\n",
       "    canvas.setAttribute('style', 'box-sizing: content-box;');\n",
       "\n",
       "    this.context = canvas.getContext('2d');\n",
       "\n",
       "    var backingStore =\n",
       "        this.context.backingStorePixelRatio ||\n",
       "        this.context.webkitBackingStorePixelRatio ||\n",
       "        this.context.mozBackingStorePixelRatio ||\n",
       "        this.context.msBackingStorePixelRatio ||\n",
       "        this.context.oBackingStorePixelRatio ||\n",
       "        this.context.backingStorePixelRatio ||\n",
       "        1;\n",
       "\n",
       "    this.ratio = (window.devicePixelRatio || 1) / backingStore;\n",
       "\n",
       "    var rubberband_canvas = (this.rubberband_canvas = document.createElement(\n",
       "        'canvas'\n",
       "    ));\n",
       "    rubberband_canvas.setAttribute(\n",
       "        'style',\n",
       "        'box-sizing: content-box; position: absolute; left: 0; top: 0; z-index: 1;'\n",
       "    );\n",
       "\n",
       "    // Apply a ponyfill if ResizeObserver is not implemented by browser.\n",
       "    if (this.ResizeObserver === undefined) {\n",
       "        if (window.ResizeObserver !== undefined) {\n",
       "            this.ResizeObserver = window.ResizeObserver;\n",
       "        } else {\n",
       "            var obs = _JSXTOOLS_RESIZE_OBSERVER({});\n",
       "            this.ResizeObserver = obs.ResizeObserver;\n",
       "        }\n",
       "    }\n",
       "\n",
       "    this.resizeObserverInstance = new this.ResizeObserver(function (entries) {\n",
       "        var nentries = entries.length;\n",
       "        for (var i = 0; i < nentries; i++) {\n",
       "            var entry = entries[i];\n",
       "            var width, height;\n",
       "            if (entry.contentBoxSize) {\n",
       "                if (entry.contentBoxSize instanceof Array) {\n",
       "                    // Chrome 84 implements new version of spec.\n",
       "                    width = entry.contentBoxSize[0].inlineSize;\n",
       "                    height = entry.contentBoxSize[0].blockSize;\n",
       "                } else {\n",
       "                    // Firefox implements old version of spec.\n",
       "                    width = entry.contentBoxSize.inlineSize;\n",
       "                    height = entry.contentBoxSize.blockSize;\n",
       "                }\n",
       "            } else {\n",
       "                // Chrome <84 implements even older version of spec.\n",
       "                width = entry.contentRect.width;\n",
       "                height = entry.contentRect.height;\n",
       "            }\n",
       "\n",
       "            // Keep the size of the canvas and rubber band canvas in sync with\n",
       "            // the canvas container.\n",
       "            if (entry.devicePixelContentBoxSize) {\n",
       "                // Chrome 84 implements new version of spec.\n",
       "                canvas.setAttribute(\n",
       "                    'width',\n",
       "                    entry.devicePixelContentBoxSize[0].inlineSize\n",
       "                );\n",
       "                canvas.setAttribute(\n",
       "                    'height',\n",
       "                    entry.devicePixelContentBoxSize[0].blockSize\n",
       "                );\n",
       "            } else {\n",
       "                canvas.setAttribute('width', width * fig.ratio);\n",
       "                canvas.setAttribute('height', height * fig.ratio);\n",
       "            }\n",
       "            canvas.setAttribute(\n",
       "                'style',\n",
       "                'width: ' + width + 'px; height: ' + height + 'px;'\n",
       "            );\n",
       "\n",
       "            rubberband_canvas.setAttribute('width', width);\n",
       "            rubberband_canvas.setAttribute('height', height);\n",
       "\n",
       "            // And update the size in Python. We ignore the initial 0/0 size\n",
       "            // that occurs as the element is placed into the DOM, which should\n",
       "            // otherwise not happen due to the minimum size styling.\n",
       "            if (fig.ws.readyState == 1 && width != 0 && height != 0) {\n",
       "                fig.request_resize(width, height);\n",
       "            }\n",
       "        }\n",
       "    });\n",
       "    this.resizeObserverInstance.observe(canvas_div);\n",
       "\n",
       "    function on_mouse_event_closure(name) {\n",
       "        return function (event) {\n",
       "            return fig.mouse_event(event, name);\n",
       "        };\n",
       "    }\n",
       "\n",
       "    rubberband_canvas.addEventListener(\n",
       "        'mousedown',\n",
       "        on_mouse_event_closure('button_press')\n",
       "    );\n",
       "    rubberband_canvas.addEventListener(\n",
       "        'mouseup',\n",
       "        on_mouse_event_closure('button_release')\n",
       "    );\n",
       "    // Throttle sequential mouse events to 1 every 20ms.\n",
       "    rubberband_canvas.addEventListener(\n",
       "        'mousemove',\n",
       "        on_mouse_event_closure('motion_notify')\n",
       "    );\n",
       "\n",
       "    rubberband_canvas.addEventListener(\n",
       "        'mouseenter',\n",
       "        on_mouse_event_closure('figure_enter')\n",
       "    );\n",
       "    rubberband_canvas.addEventListener(\n",
       "        'mouseleave',\n",
       "        on_mouse_event_closure('figure_leave')\n",
       "    );\n",
       "\n",
       "    canvas_div.addEventListener('wheel', function (event) {\n",
       "        if (event.deltaY < 0) {\n",
       "            event.step = 1;\n",
       "        } else {\n",
       "            event.step = -1;\n",
       "        }\n",
       "        on_mouse_event_closure('scroll')(event);\n",
       "    });\n",
       "\n",
       "    canvas_div.appendChild(canvas);\n",
       "    canvas_div.appendChild(rubberband_canvas);\n",
       "\n",
       "    this.rubberband_context = rubberband_canvas.getContext('2d');\n",
       "    this.rubberband_context.strokeStyle = '#000000';\n",
       "\n",
       "    this._resize_canvas = function (width, height, forward) {\n",
       "        if (forward) {\n",
       "            canvas_div.style.width = width + 'px';\n",
       "            canvas_div.style.height = height + 'px';\n",
       "        }\n",
       "    };\n",
       "\n",
       "    // Disable right mouse context menu.\n",
       "    this.rubberband_canvas.addEventListener('contextmenu', function (_e) {\n",
       "        event.preventDefault();\n",
       "        return false;\n",
       "    });\n",
       "\n",
       "    function set_focus() {\n",
       "        canvas.focus();\n",
       "        canvas_div.focus();\n",
       "    }\n",
       "\n",
       "    window.setTimeout(set_focus, 100);\n",
       "};\n",
       "\n",
       "mpl.figure.prototype._init_toolbar = function () {\n",
       "    var fig = this;\n",
       "\n",
       "    var toolbar = document.createElement('div');\n",
       "    toolbar.classList = 'mpl-toolbar';\n",
       "    this.root.appendChild(toolbar);\n",
       "\n",
       "    function on_click_closure(name) {\n",
       "        return function (_event) {\n",
       "            return fig.toolbar_button_onclick(name);\n",
       "        };\n",
       "    }\n",
       "\n",
       "    function on_mouseover_closure(tooltip) {\n",
       "        return function (event) {\n",
       "            if (!event.currentTarget.disabled) {\n",
       "                return fig.toolbar_button_onmouseover(tooltip);\n",
       "            }\n",
       "        };\n",
       "    }\n",
       "\n",
       "    fig.buttons = {};\n",
       "    var buttonGroup = document.createElement('div');\n",
       "    buttonGroup.classList = 'mpl-button-group';\n",
       "    for (var toolbar_ind in mpl.toolbar_items) {\n",
       "        var name = mpl.toolbar_items[toolbar_ind][0];\n",
       "        var tooltip = mpl.toolbar_items[toolbar_ind][1];\n",
       "        var image = mpl.toolbar_items[toolbar_ind][2];\n",
       "        var method_name = mpl.toolbar_items[toolbar_ind][3];\n",
       "\n",
       "        if (!name) {\n",
       "            /* Instead of a spacer, we start a new button group. */\n",
       "            if (buttonGroup.hasChildNodes()) {\n",
       "                toolbar.appendChild(buttonGroup);\n",
       "            }\n",
       "            buttonGroup = document.createElement('div');\n",
       "            buttonGroup.classList = 'mpl-button-group';\n",
       "            continue;\n",
       "        }\n",
       "\n",
       "        var button = (fig.buttons[name] = document.createElement('button'));\n",
       "        button.classList = 'mpl-widget';\n",
       "        button.setAttribute('role', 'button');\n",
       "        button.setAttribute('aria-disabled', 'false');\n",
       "        button.addEventListener('click', on_click_closure(method_name));\n",
       "        button.addEventListener('mouseover', on_mouseover_closure(tooltip));\n",
       "\n",
       "        var icon_img = document.createElement('img');\n",
       "        icon_img.src = '_images/' + image + '.png';\n",
       "        icon_img.srcset = '_images/' + image + '_large.png 2x';\n",
       "        icon_img.alt = tooltip;\n",
       "        button.appendChild(icon_img);\n",
       "\n",
       "        buttonGroup.appendChild(button);\n",
       "    }\n",
       "\n",
       "    if (buttonGroup.hasChildNodes()) {\n",
       "        toolbar.appendChild(buttonGroup);\n",
       "    }\n",
       "\n",
       "    var fmt_picker = document.createElement('select');\n",
       "    fmt_picker.classList = 'mpl-widget';\n",
       "    toolbar.appendChild(fmt_picker);\n",
       "    this.format_dropdown = fmt_picker;\n",
       "\n",
       "    for (var ind in mpl.extensions) {\n",
       "        var fmt = mpl.extensions[ind];\n",
       "        var option = document.createElement('option');\n",
       "        option.selected = fmt === mpl.default_extension;\n",
       "        option.innerHTML = fmt;\n",
       "        fmt_picker.appendChild(option);\n",
       "    }\n",
       "\n",
       "    var status_bar = document.createElement('span');\n",
       "    status_bar.classList = 'mpl-message';\n",
       "    toolbar.appendChild(status_bar);\n",
       "    this.message = status_bar;\n",
       "};\n",
       "\n",
       "mpl.figure.prototype.request_resize = function (x_pixels, y_pixels) {\n",
       "    // Request matplotlib to resize the figure. Matplotlib will then trigger a resize in the client,\n",
       "    // which will in turn request a refresh of the image.\n",
       "    this.send_message('resize', { width: x_pixels, height: y_pixels });\n",
       "};\n",
       "\n",
       "mpl.figure.prototype.send_message = function (type, properties) {\n",
       "    properties['type'] = type;\n",
       "    properties['figure_id'] = this.id;\n",
       "    this.ws.send(JSON.stringify(properties));\n",
       "};\n",
       "\n",
       "mpl.figure.prototype.send_draw_message = function () {\n",
       "    if (!this.waiting) {\n",
       "        this.waiting = true;\n",
       "        this.ws.send(JSON.stringify({ type: 'draw', figure_id: this.id }));\n",
       "    }\n",
       "};\n",
       "\n",
       "mpl.figure.prototype.handle_save = function (fig, _msg) {\n",
       "    var format_dropdown = fig.format_dropdown;\n",
       "    var format = format_dropdown.options[format_dropdown.selectedIndex].value;\n",
       "    fig.ondownload(fig, format);\n",
       "};\n",
       "\n",
       "mpl.figure.prototype.handle_resize = function (fig, msg) {\n",
       "    var size = msg['size'];\n",
       "    if (size[0] !== fig.canvas.width || size[1] !== fig.canvas.height) {\n",
       "        fig._resize_canvas(size[0], size[1], msg['forward']);\n",
       "        fig.send_message('refresh', {});\n",
       "    }\n",
       "};\n",
       "\n",
       "mpl.figure.prototype.handle_rubberband = function (fig, msg) {\n",
       "    var x0 = msg['x0'] / fig.ratio;\n",
       "    var y0 = (fig.canvas.height - msg['y0']) / fig.ratio;\n",
       "    var x1 = msg['x1'] / fig.ratio;\n",
       "    var y1 = (fig.canvas.height - msg['y1']) / fig.ratio;\n",
       "    x0 = Math.floor(x0) + 0.5;\n",
       "    y0 = Math.floor(y0) + 0.5;\n",
       "    x1 = Math.floor(x1) + 0.5;\n",
       "    y1 = Math.floor(y1) + 0.5;\n",
       "    var min_x = Math.min(x0, x1);\n",
       "    var min_y = Math.min(y0, y1);\n",
       "    var width = Math.abs(x1 - x0);\n",
       "    var height = Math.abs(y1 - y0);\n",
       "\n",
       "    fig.rubberband_context.clearRect(\n",
       "        0,\n",
       "        0,\n",
       "        fig.canvas.width / fig.ratio,\n",
       "        fig.canvas.height / fig.ratio\n",
       "    );\n",
       "\n",
       "    fig.rubberband_context.strokeRect(min_x, min_y, width, height);\n",
       "};\n",
       "\n",
       "mpl.figure.prototype.handle_figure_label = function (fig, msg) {\n",
       "    // Updates the figure title.\n",
       "    fig.header.textContent = msg['label'];\n",
       "};\n",
       "\n",
       "mpl.figure.prototype.handle_cursor = function (fig, msg) {\n",
       "    var cursor = msg['cursor'];\n",
       "    switch (cursor) {\n",
       "        case 0:\n",
       "            cursor = 'pointer';\n",
       "            break;\n",
       "        case 1:\n",
       "            cursor = 'default';\n",
       "            break;\n",
       "        case 2:\n",
       "            cursor = 'crosshair';\n",
       "            break;\n",
       "        case 3:\n",
       "            cursor = 'move';\n",
       "            break;\n",
       "    }\n",
       "    fig.rubberband_canvas.style.cursor = cursor;\n",
       "};\n",
       "\n",
       "mpl.figure.prototype.handle_message = function (fig, msg) {\n",
       "    fig.message.textContent = msg['message'];\n",
       "};\n",
       "\n",
       "mpl.figure.prototype.handle_draw = function (fig, _msg) {\n",
       "    // Request the server to send over a new figure.\n",
       "    fig.send_draw_message();\n",
       "};\n",
       "\n",
       "mpl.figure.prototype.handle_image_mode = function (fig, msg) {\n",
       "    fig.image_mode = msg['mode'];\n",
       "};\n",
       "\n",
       "mpl.figure.prototype.handle_history_buttons = function (fig, msg) {\n",
       "    for (var key in msg) {\n",
       "        if (!(key in fig.buttons)) {\n",
       "            continue;\n",
       "        }\n",
       "        fig.buttons[key].disabled = !msg[key];\n",
       "        fig.buttons[key].setAttribute('aria-disabled', !msg[key]);\n",
       "    }\n",
       "};\n",
       "\n",
       "mpl.figure.prototype.handle_navigate_mode = function (fig, msg) {\n",
       "    if (msg['mode'] === 'PAN') {\n",
       "        fig.buttons['Pan'].classList.add('active');\n",
       "        fig.buttons['Zoom'].classList.remove('active');\n",
       "    } else if (msg['mode'] === 'ZOOM') {\n",
       "        fig.buttons['Pan'].classList.remove('active');\n",
       "        fig.buttons['Zoom'].classList.add('active');\n",
       "    } else {\n",
       "        fig.buttons['Pan'].classList.remove('active');\n",
       "        fig.buttons['Zoom'].classList.remove('active');\n",
       "    }\n",
       "};\n",
       "\n",
       "mpl.figure.prototype.updated_canvas_event = function () {\n",
       "    // Called whenever the canvas gets updated.\n",
       "    this.send_message('ack', {});\n",
       "};\n",
       "\n",
       "// A function to construct a web socket function for onmessage handling.\n",
       "// Called in the figure constructor.\n",
       "mpl.figure.prototype._make_on_message_function = function (fig) {\n",
       "    return function socket_on_message(evt) {\n",
       "        if (evt.data instanceof Blob) {\n",
       "            /* FIXME: We get \"Resource interpreted as Image but\n",
       "             * transferred with MIME type text/plain:\" errors on\n",
       "             * Chrome.  But how to set the MIME type?  It doesn't seem\n",
       "             * to be part of the websocket stream */\n",
       "            evt.data.type = 'image/png';\n",
       "\n",
       "            /* Free the memory for the previous frames */\n",
       "            if (fig.imageObj.src) {\n",
       "                (window.URL || window.webkitURL).revokeObjectURL(\n",
       "                    fig.imageObj.src\n",
       "                );\n",
       "            }\n",
       "\n",
       "            fig.imageObj.src = (window.URL || window.webkitURL).createObjectURL(\n",
       "                evt.data\n",
       "            );\n",
       "            fig.updated_canvas_event();\n",
       "            fig.waiting = false;\n",
       "            return;\n",
       "        } else if (\n",
       "            typeof evt.data === 'string' &&\n",
       "            evt.data.slice(0, 21) === 'data:image/png;base64'\n",
       "        ) {\n",
       "            fig.imageObj.src = evt.data;\n",
       "            fig.updated_canvas_event();\n",
       "            fig.waiting = false;\n",
       "            return;\n",
       "        }\n",
       "\n",
       "        var msg = JSON.parse(evt.data);\n",
       "        var msg_type = msg['type'];\n",
       "\n",
       "        // Call the  \"handle_{type}\" callback, which takes\n",
       "        // the figure and JSON message as its only arguments.\n",
       "        try {\n",
       "            var callback = fig['handle_' + msg_type];\n",
       "        } catch (e) {\n",
       "            console.log(\n",
       "                \"No handler for the '\" + msg_type + \"' message type: \",\n",
       "                msg\n",
       "            );\n",
       "            return;\n",
       "        }\n",
       "\n",
       "        if (callback) {\n",
       "            try {\n",
       "                // console.log(\"Handling '\" + msg_type + \"' message: \", msg);\n",
       "                callback(fig, msg);\n",
       "            } catch (e) {\n",
       "                console.log(\n",
       "                    \"Exception inside the 'handler_\" + msg_type + \"' callback:\",\n",
       "                    e,\n",
       "                    e.stack,\n",
       "                    msg\n",
       "                );\n",
       "            }\n",
       "        }\n",
       "    };\n",
       "};\n",
       "\n",
       "// from http://stackoverflow.com/questions/1114465/getting-mouse-location-in-canvas\n",
       "mpl.findpos = function (e) {\n",
       "    //this section is from http://www.quirksmode.org/js/events_properties.html\n",
       "    var targ;\n",
       "    if (!e) {\n",
       "        e = window.event;\n",
       "    }\n",
       "    if (e.target) {\n",
       "        targ = e.target;\n",
       "    } else if (e.srcElement) {\n",
       "        targ = e.srcElement;\n",
       "    }\n",
       "    if (targ.nodeType === 3) {\n",
       "        // defeat Safari bug\n",
       "        targ = targ.parentNode;\n",
       "    }\n",
       "\n",
       "    // pageX,Y are the mouse positions relative to the document\n",
       "    var boundingRect = targ.getBoundingClientRect();\n",
       "    var x = e.pageX - (boundingRect.left + document.body.scrollLeft);\n",
       "    var y = e.pageY - (boundingRect.top + document.body.scrollTop);\n",
       "\n",
       "    return { x: x, y: y };\n",
       "};\n",
       "\n",
       "/*\n",
       " * return a copy of an object with only non-object keys\n",
       " * we need this to avoid circular references\n",
       " * http://stackoverflow.com/a/24161582/3208463\n",
       " */\n",
       "function simpleKeys(original) {\n",
       "    return Object.keys(original).reduce(function (obj, key) {\n",
       "        if (typeof original[key] !== 'object') {\n",
       "            obj[key] = original[key];\n",
       "        }\n",
       "        return obj;\n",
       "    }, {});\n",
       "}\n",
       "\n",
       "mpl.figure.prototype.mouse_event = function (event, name) {\n",
       "    var canvas_pos = mpl.findpos(event);\n",
       "\n",
       "    if (name === 'button_press') {\n",
       "        this.canvas.focus();\n",
       "        this.canvas_div.focus();\n",
       "    }\n",
       "\n",
       "    var x = canvas_pos.x * this.ratio;\n",
       "    var y = canvas_pos.y * this.ratio;\n",
       "\n",
       "    this.send_message(name, {\n",
       "        x: x,\n",
       "        y: y,\n",
       "        button: event.button,\n",
       "        step: event.step,\n",
       "        guiEvent: simpleKeys(event),\n",
       "    });\n",
       "\n",
       "    /* This prevents the web browser from automatically changing to\n",
       "     * the text insertion cursor when the button is pressed.  We want\n",
       "     * to control all of the cursor setting manually through the\n",
       "     * 'cursor' event from matplotlib */\n",
       "    event.preventDefault();\n",
       "    return false;\n",
       "};\n",
       "\n",
       "mpl.figure.prototype._key_event_extra = function (_event, _name) {\n",
       "    // Handle any extra behaviour associated with a key event\n",
       "};\n",
       "\n",
       "mpl.figure.prototype.key_event = function (event, name) {\n",
       "    // Prevent repeat events\n",
       "    if (name === 'key_press') {\n",
       "        if (event.which === this._key) {\n",
       "            return;\n",
       "        } else {\n",
       "            this._key = event.which;\n",
       "        }\n",
       "    }\n",
       "    if (name === 'key_release') {\n",
       "        this._key = null;\n",
       "    }\n",
       "\n",
       "    var value = '';\n",
       "    if (event.ctrlKey && event.which !== 17) {\n",
       "        value += 'ctrl+';\n",
       "    }\n",
       "    if (event.altKey && event.which !== 18) {\n",
       "        value += 'alt+';\n",
       "    }\n",
       "    if (event.shiftKey && event.which !== 16) {\n",
       "        value += 'shift+';\n",
       "    }\n",
       "\n",
       "    value += 'k';\n",
       "    value += event.which.toString();\n",
       "\n",
       "    this._key_event_extra(event, name);\n",
       "\n",
       "    this.send_message(name, { key: value, guiEvent: simpleKeys(event) });\n",
       "    return false;\n",
       "};\n",
       "\n",
       "mpl.figure.prototype.toolbar_button_onclick = function (name) {\n",
       "    if (name === 'download') {\n",
       "        this.handle_save(this, null);\n",
       "    } else {\n",
       "        this.send_message('toolbar_button', { name: name });\n",
       "    }\n",
       "};\n",
       "\n",
       "mpl.figure.prototype.toolbar_button_onmouseover = function (tooltip) {\n",
       "    this.message.textContent = tooltip;\n",
       "};\n",
       "\n",
       "///////////////// REMAINING CONTENT GENERATED BY embed_js.py /////////////////\n",
       "// prettier-ignore\n",
       "var _JSXTOOLS_RESIZE_OBSERVER=function(A){var t,i=new WeakMap,n=new WeakMap,a=new WeakMap,r=new WeakMap,o=new Set;function s(e){if(!(this instanceof s))throw new TypeError(\"Constructor requires 'new' operator\");i.set(this,e)}function h(){throw new TypeError(\"Function is not a constructor\")}function c(e,t,i,n){e=0 in arguments?Number(arguments[0]):0,t=1 in arguments?Number(arguments[1]):0,i=2 in arguments?Number(arguments[2]):0,n=3 in arguments?Number(arguments[3]):0,this.right=(this.x=this.left=e)+(this.width=i),this.bottom=(this.y=this.top=t)+(this.height=n),Object.freeze(this)}function d(){t=requestAnimationFrame(d);var s=new WeakMap,p=new Set;o.forEach((function(t){r.get(t).forEach((function(i){var r=t instanceof window.SVGElement,o=a.get(t),d=r?0:parseFloat(o.paddingTop),f=r?0:parseFloat(o.paddingRight),l=r?0:parseFloat(o.paddingBottom),u=r?0:parseFloat(o.paddingLeft),g=r?0:parseFloat(o.borderTopWidth),m=r?0:parseFloat(o.borderRightWidth),w=r?0:parseFloat(o.borderBottomWidth),b=u+f,F=d+l,v=(r?0:parseFloat(o.borderLeftWidth))+m,W=g+w,y=r?0:t.offsetHeight-W-t.clientHeight,E=r?0:t.offsetWidth-v-t.clientWidth,R=b+v,z=F+W,M=r?t.width:parseFloat(o.width)-R-E,O=r?t.height:parseFloat(o.height)-z-y;if(n.has(t)){var k=n.get(t);if(k[0]===M&&k[1]===O)return}n.set(t,[M,O]);var S=Object.create(h.prototype);S.target=t,S.contentRect=new c(u,d,M,O),s.has(i)||(s.set(i,[]),p.add(i)),s.get(i).push(S)}))})),p.forEach((function(e){i.get(e).call(e,s.get(e),e)}))}return s.prototype.observe=function(i){if(i instanceof window.Element){r.has(i)||(r.set(i,new Set),o.add(i),a.set(i,window.getComputedStyle(i)));var n=r.get(i);n.has(this)||n.add(this),cancelAnimationFrame(t),t=requestAnimationFrame(d)}},s.prototype.unobserve=function(i){if(i instanceof window.Element&&r.has(i)){var n=r.get(i);n.has(this)&&(n.delete(this),n.size||(r.delete(i),o.delete(i))),n.size||r.delete(i),o.size||cancelAnimationFrame(t)}},A.DOMRectReadOnly=c,A.ResizeObserver=s,A.ResizeObserverEntry=h,A}; // eslint-disable-line\n",
       "mpl.toolbar_items = [[\"Home\", \"Reset original view\", \"fa fa-home icon-home\", \"home\"], [\"Back\", \"Back to previous view\", \"fa fa-arrow-left icon-arrow-left\", \"back\"], [\"Forward\", \"Forward to next view\", \"fa fa-arrow-right icon-arrow-right\", \"forward\"], [\"\", \"\", \"\", \"\"], [\"Pan\", \"Left button pans, Right button zooms\\nx/y fixes axis, CTRL fixes aspect\", \"fa fa-arrows icon-move\", \"pan\"], [\"Zoom\", \"Zoom to rectangle\\nx/y fixes axis, CTRL fixes aspect\", \"fa fa-square-o icon-check-empty\", \"zoom\"], [\"\", \"\", \"\", \"\"], [\"Download\", \"Download plot\", \"fa fa-floppy-o icon-save\", \"download\"]];\n",
       "\n",
       "mpl.extensions = [\"eps\", \"jpeg\", \"pdf\", \"png\", \"ps\", \"raw\", \"svg\", \"tif\"];\n",
       "\n",
       "mpl.default_extension = \"png\";/* global mpl */\n",
       "\n",
       "var comm_websocket_adapter = function (comm) {\n",
       "    // Create a \"websocket\"-like object which calls the given IPython comm\n",
       "    // object with the appropriate methods. Currently this is a non binary\n",
       "    // socket, so there is still some room for performance tuning.\n",
       "    var ws = {};\n",
       "\n",
       "    ws.close = function () {\n",
       "        comm.close();\n",
       "    };\n",
       "    ws.send = function (m) {\n",
       "        //console.log('sending', m);\n",
       "        comm.send(m);\n",
       "    };\n",
       "    // Register the callback with on_msg.\n",
       "    comm.on_msg(function (msg) {\n",
       "        //console.log('receiving', msg['content']['data'], msg);\n",
       "        // Pass the mpl event to the overridden (by mpl) onmessage function.\n",
       "        ws.onmessage(msg['content']['data']);\n",
       "    });\n",
       "    return ws;\n",
       "};\n",
       "\n",
       "mpl.mpl_figure_comm = function (comm, msg) {\n",
       "    // This is the function which gets called when the mpl process\n",
       "    // starts-up an IPython Comm through the \"matplotlib\" channel.\n",
       "\n",
       "    var id = msg.content.data.id;\n",
       "    // Get hold of the div created by the display call when the Comm\n",
       "    // socket was opened in Python.\n",
       "    var element = document.getElementById(id);\n",
       "    var ws_proxy = comm_websocket_adapter(comm);\n",
       "\n",
       "    function ondownload(figure, _format) {\n",
       "        window.open(figure.canvas.toDataURL());\n",
       "    }\n",
       "\n",
       "    var fig = new mpl.figure(id, ws_proxy, ondownload, element);\n",
       "\n",
       "    // Call onopen now - mpl needs it, as it is assuming we've passed it a real\n",
       "    // web socket which is closed, not our websocket->open comm proxy.\n",
       "    ws_proxy.onopen();\n",
       "\n",
       "    fig.parent_element = element;\n",
       "    fig.cell_info = mpl.find_output_cell(\"<div id='\" + id + \"'></div>\");\n",
       "    if (!fig.cell_info) {\n",
       "        console.error('Failed to find cell for figure', id, fig);\n",
       "        return;\n",
       "    }\n",
       "    fig.cell_info[0].output_area.element.on(\n",
       "        'cleared',\n",
       "        { fig: fig },\n",
       "        fig._remove_fig_handler\n",
       "    );\n",
       "};\n",
       "\n",
       "mpl.figure.prototype.handle_close = function (fig, msg) {\n",
       "    var width = fig.canvas.width / fig.ratio;\n",
       "    fig.cell_info[0].output_area.element.off(\n",
       "        'cleared',\n",
       "        fig._remove_fig_handler\n",
       "    );\n",
       "    fig.resizeObserverInstance.unobserve(fig.canvas_div);\n",
       "\n",
       "    // Update the output cell to use the data from the current canvas.\n",
       "    fig.push_to_output();\n",
       "    var dataURL = fig.canvas.toDataURL();\n",
       "    // Re-enable the keyboard manager in IPython - without this line, in FF,\n",
       "    // the notebook keyboard shortcuts fail.\n",
       "    IPython.keyboard_manager.enable();\n",
       "    fig.parent_element.innerHTML =\n",
       "        '<img src=\"' + dataURL + '\" width=\"' + width + '\">';\n",
       "    fig.close_ws(fig, msg);\n",
       "};\n",
       "\n",
       "mpl.figure.prototype.close_ws = function (fig, msg) {\n",
       "    fig.send_message('closing', msg);\n",
       "    // fig.ws.close()\n",
       "};\n",
       "\n",
       "mpl.figure.prototype.push_to_output = function (_remove_interactive) {\n",
       "    // Turn the data on the canvas into data in the output cell.\n",
       "    var width = this.canvas.width / this.ratio;\n",
       "    var dataURL = this.canvas.toDataURL();\n",
       "    this.cell_info[1]['text/html'] =\n",
       "        '<img src=\"' + dataURL + '\" width=\"' + width + '\">';\n",
       "};\n",
       "\n",
       "mpl.figure.prototype.updated_canvas_event = function () {\n",
       "    // Tell IPython that the notebook contents must change.\n",
       "    IPython.notebook.set_dirty(true);\n",
       "    this.send_message('ack', {});\n",
       "    var fig = this;\n",
       "    // Wait a second, then push the new image to the DOM so\n",
       "    // that it is saved nicely (might be nice to debounce this).\n",
       "    setTimeout(function () {\n",
       "        fig.push_to_output();\n",
       "    }, 1000);\n",
       "};\n",
       "\n",
       "mpl.figure.prototype._init_toolbar = function () {\n",
       "    var fig = this;\n",
       "\n",
       "    var toolbar = document.createElement('div');\n",
       "    toolbar.classList = 'btn-toolbar';\n",
       "    this.root.appendChild(toolbar);\n",
       "\n",
       "    function on_click_closure(name) {\n",
       "        return function (_event) {\n",
       "            return fig.toolbar_button_onclick(name);\n",
       "        };\n",
       "    }\n",
       "\n",
       "    function on_mouseover_closure(tooltip) {\n",
       "        return function (event) {\n",
       "            if (!event.currentTarget.disabled) {\n",
       "                return fig.toolbar_button_onmouseover(tooltip);\n",
       "            }\n",
       "        };\n",
       "    }\n",
       "\n",
       "    fig.buttons = {};\n",
       "    var buttonGroup = document.createElement('div');\n",
       "    buttonGroup.classList = 'btn-group';\n",
       "    var button;\n",
       "    for (var toolbar_ind in mpl.toolbar_items) {\n",
       "        var name = mpl.toolbar_items[toolbar_ind][0];\n",
       "        var tooltip = mpl.toolbar_items[toolbar_ind][1];\n",
       "        var image = mpl.toolbar_items[toolbar_ind][2];\n",
       "        var method_name = mpl.toolbar_items[toolbar_ind][3];\n",
       "\n",
       "        if (!name) {\n",
       "            /* Instead of a spacer, we start a new button group. */\n",
       "            if (buttonGroup.hasChildNodes()) {\n",
       "                toolbar.appendChild(buttonGroup);\n",
       "            }\n",
       "            buttonGroup = document.createElement('div');\n",
       "            buttonGroup.classList = 'btn-group';\n",
       "            continue;\n",
       "        }\n",
       "\n",
       "        button = fig.buttons[name] = document.createElement('button');\n",
       "        button.classList = 'btn btn-default';\n",
       "        button.href = '#';\n",
       "        button.title = name;\n",
       "        button.innerHTML = '<i class=\"fa ' + image + ' fa-lg\"></i>';\n",
       "        button.addEventListener('click', on_click_closure(method_name));\n",
       "        button.addEventListener('mouseover', on_mouseover_closure(tooltip));\n",
       "        buttonGroup.appendChild(button);\n",
       "    }\n",
       "\n",
       "    if (buttonGroup.hasChildNodes()) {\n",
       "        toolbar.appendChild(buttonGroup);\n",
       "    }\n",
       "\n",
       "    // Add the status bar.\n",
       "    var status_bar = document.createElement('span');\n",
       "    status_bar.classList = 'mpl-message pull-right';\n",
       "    toolbar.appendChild(status_bar);\n",
       "    this.message = status_bar;\n",
       "\n",
       "    // Add the close button to the window.\n",
       "    var buttongrp = document.createElement('div');\n",
       "    buttongrp.classList = 'btn-group inline pull-right';\n",
       "    button = document.createElement('button');\n",
       "    button.classList = 'btn btn-mini btn-primary';\n",
       "    button.href = '#';\n",
       "    button.title = 'Stop Interaction';\n",
       "    button.innerHTML = '<i class=\"fa fa-power-off icon-remove icon-large\"></i>';\n",
       "    button.addEventListener('click', function (_evt) {\n",
       "        fig.handle_close(fig, {});\n",
       "    });\n",
       "    button.addEventListener(\n",
       "        'mouseover',\n",
       "        on_mouseover_closure('Stop Interaction')\n",
       "    );\n",
       "    buttongrp.appendChild(button);\n",
       "    var titlebar = this.root.querySelector('.ui-dialog-titlebar');\n",
       "    titlebar.insertBefore(buttongrp, titlebar.firstChild);\n",
       "};\n",
       "\n",
       "mpl.figure.prototype._remove_fig_handler = function (event) {\n",
       "    var fig = event.data.fig;\n",
       "    if (event.target !== this) {\n",
       "        // Ignore bubbled events from children.\n",
       "        return;\n",
       "    }\n",
       "    fig.close_ws(fig, {});\n",
       "};\n",
       "\n",
       "mpl.figure.prototype._root_extra_style = function (el) {\n",
       "    el.style.boxSizing = 'content-box'; // override notebook setting of border-box.\n",
       "};\n",
       "\n",
       "mpl.figure.prototype._canvas_extra_style = function (el) {\n",
       "    // this is important to make the div 'focusable\n",
       "    el.setAttribute('tabindex', 0);\n",
       "    // reach out to IPython and tell the keyboard manager to turn it's self\n",
       "    // off when our div gets focus\n",
       "\n",
       "    // location in version 3\n",
       "    if (IPython.notebook.keyboard_manager) {\n",
       "        IPython.notebook.keyboard_manager.register_events(el);\n",
       "    } else {\n",
       "        // location in version 2\n",
       "        IPython.keyboard_manager.register_events(el);\n",
       "    }\n",
       "};\n",
       "\n",
       "mpl.figure.prototype._key_event_extra = function (event, _name) {\n",
       "    var manager = IPython.notebook.keyboard_manager;\n",
       "    if (!manager) {\n",
       "        manager = IPython.keyboard_manager;\n",
       "    }\n",
       "\n",
       "    // Check for shift+enter\n",
       "    if (event.shiftKey && event.which === 13) {\n",
       "        this.canvas_div.blur();\n",
       "        // select the cell after this one\n",
       "        var index = IPython.notebook.find_cell_index(this.cell_info[0]);\n",
       "        IPython.notebook.select(index + 1);\n",
       "    }\n",
       "};\n",
       "\n",
       "mpl.figure.prototype.handle_save = function (fig, _msg) {\n",
       "    fig.ondownload(fig, null);\n",
       "};\n",
       "\n",
       "mpl.find_output_cell = function (html_output) {\n",
       "    // Return the cell and output element which can be found *uniquely* in the notebook.\n",
       "    // Note - this is a bit hacky, but it is done because the \"notebook_saving.Notebook\"\n",
       "    // IPython event is triggered only after the cells have been serialised, which for\n",
       "    // our purposes (turning an active figure into a static one), is too late.\n",
       "    var cells = IPython.notebook.get_cells();\n",
       "    var ncells = cells.length;\n",
       "    for (var i = 0; i < ncells; i++) {\n",
       "        var cell = cells[i];\n",
       "        if (cell.cell_type === 'code') {\n",
       "            for (var j = 0; j < cell.output_area.outputs.length; j++) {\n",
       "                var data = cell.output_area.outputs[j];\n",
       "                if (data.data) {\n",
       "                    // IPython >= 3 moved mimebundle to data attribute of output\n",
       "                    data = data.data;\n",
       "                }\n",
       "                if (data['text/html'] === html_output) {\n",
       "                    return [cell, data, j];\n",
       "                }\n",
       "            }\n",
       "        }\n",
       "    }\n",
       "};\n",
       "\n",
       "// Register the function which deals with the matplotlib target/channel.\n",
       "// The kernel may be null if the page has been refreshed.\n",
       "if (IPython.notebook.kernel !== null) {\n",
       "    IPython.notebook.kernel.comm_manager.register_target(\n",
       "        'matplotlib',\n",
       "        mpl.mpl_figure_comm\n",
       "    );\n",
       "}\n"
      ],
      "text/plain": [
       "<IPython.core.display.Javascript object>"
      ]
     },
     "metadata": {},
     "output_type": "display_data"
    },
    {
     "data": {
      "text/html": [
       "<img src=\"data:image/png;base64,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\" width=\"432\">"
      ],
      "text/plain": [
       "<IPython.core.display.HTML object>"
      ]
     },
     "metadata": {},
     "output_type": "display_data"
    },
    {
     "data": {
      "text/plain": [
       "[<matplotlib.lines.Line2D at 0x7ff66e8c8100>]"
      ]
     },
     "execution_count": 110,
     "metadata": {},
     "output_type": "execute_result"
    }
   ],
   "source": [
    "# Compute the x and y coordinates for points on a sine curve\n",
    "x = np.arange(0, 3 * np.pi, 0.1)\n",
    "y = np.sin(x)\n",
    "\n",
    "# Plot the points using matplotlib\n",
    "plt.plot(x, y)"
   ]
  },
  {
   "cell_type": "markdown",
   "metadata": {
    "id": "9W2VAcLiL9jX"
   },
   "source": [
    "With just a little bit of extra work we can easily plot multiple lines at once, and add a title, legend, and axis labels:"
   ]
  },
  {
   "cell_type": "code",
   "execution_count": 111,
   "metadata": {
    "colab": {
     "base_uri": "https://localhost:8080/",
     "height": 312
    },
    "id": "TfCQHJ5AL9jY",
    "outputId": "fdb9c033-0f06-4041-a69d-a0f3a54c7206"
   },
   "outputs": [
    {
     "data": {
      "text/plain": [
       "<matplotlib.legend.Legend at 0x7ff66e8c85b0>"
      ]
     },
     "execution_count": 111,
     "metadata": {},
     "output_type": "execute_result"
    }
   ],
   "source": [
    "y_sin = np.sin(x)\n",
    "y_cos = np.cos(x)\n",
    "\n",
    "# Plot the points using matplotlib\n",
    "plt.plot(x, y_sin)\n",
    "plt.plot(x, y_cos)\n",
    "plt.xlabel('x axis label')\n",
    "plt.ylabel('y axis label')\n",
    "plt.title('Sine and Cosine')\n",
    "plt.legend(['Sine', 'Cosine'])"
   ]
  },
  {
   "cell_type": "markdown",
   "metadata": {
    "id": "R5IeAY03L9ja"
   },
   "source": [
    "### Subplots "
   ]
  },
  {
   "cell_type": "markdown",
   "metadata": {
    "id": "CfUzwJg0L9ja"
   },
   "source": [
    "You can plot different things in the same figure using the subplot function. Here is an example:"
   ]
  },
  {
   "cell_type": "code",
   "execution_count": 112,
   "metadata": {
    "colab": {
     "base_uri": "https://localhost:8080/",
     "height": 281
    },
    "id": "dM23yGH9L9ja",
    "outputId": "14dfa5ea-f453-4da5-a2ee-fea0de8f72d9"
   },
   "outputs": [],
   "source": [
    "# Compute the x and y coordinates for points on sine and cosine curves\n",
    "x = np.arange(0, 3 * np.pi, 0.1)\n",
    "y_sin = np.sin(x)\n",
    "y_cos = np.cos(x)\n",
    "\n",
    "# Set up a subplot grid that has height 2 and width 1,\n",
    "# and set the first such subplot as active.\n",
    "plt.subplot(2, 1, 1)\n",
    "\n",
    "# Make the first plot\n",
    "plt.plot(x, y_sin)\n",
    "plt.title('Sine')\n",
    "\n",
    "# Set the second subplot as active, and make the second plot.\n",
    "plt.subplot(2, 1, 2)\n",
    "plt.plot(x, y_cos)\n",
    "plt.title('Cosine')\n",
    "\n",
    "# Show the figure.\n",
    "plt.show()"
   ]
  },
  {
   "cell_type": "markdown",
   "metadata": {
    "id": "gLtsST5SL9jc"
   },
   "source": [
    "You can read much more about the `subplot` function in the [documentation](http://matplotlib.org/api/pyplot_api.html#matplotlib.pyplot.subplot)."
   ]
  },
  {
   "cell_type": "markdown",
   "metadata": {},
   "source": [
    "### Plotting 3D"
   ]
  },
  {
   "cell_type": "code",
   "execution_count": 116,
   "metadata": {},
   "outputs": [
    {
     "data": {
      "application/javascript": [
       "/* Put everything inside the global mpl namespace */\n",
       "/* global mpl */\n",
       "window.mpl = {};\n",
       "\n",
       "mpl.get_websocket_type = function () {\n",
       "    if (typeof WebSocket !== 'undefined') {\n",
       "        return WebSocket;\n",
       "    } else if (typeof MozWebSocket !== 'undefined') {\n",
       "        return MozWebSocket;\n",
       "    } else {\n",
       "        alert(\n",
       "            'Your browser does not have WebSocket support. ' +\n",
       "                'Please try Chrome, Safari or Firefox ≥ 6. ' +\n",
       "                'Firefox 4 and 5 are also supported but you ' +\n",
       "                'have to enable WebSockets in about:config.'\n",
       "        );\n",
       "    }\n",
       "};\n",
       "\n",
       "mpl.figure = function (figure_id, websocket, ondownload, parent_element) {\n",
       "    this.id = figure_id;\n",
       "\n",
       "    this.ws = websocket;\n",
       "\n",
       "    this.supports_binary = this.ws.binaryType !== undefined;\n",
       "\n",
       "    if (!this.supports_binary) {\n",
       "        var warnings = document.getElementById('mpl-warnings');\n",
       "        if (warnings) {\n",
       "            warnings.style.display = 'block';\n",
       "            warnings.textContent =\n",
       "                'This browser does not support binary websocket messages. ' +\n",
       "                'Performance may be slow.';\n",
       "        }\n",
       "    }\n",
       "\n",
       "    this.imageObj = new Image();\n",
       "\n",
       "    this.context = undefined;\n",
       "    this.message = undefined;\n",
       "    this.canvas = undefined;\n",
       "    this.rubberband_canvas = undefined;\n",
       "    this.rubberband_context = undefined;\n",
       "    this.format_dropdown = undefined;\n",
       "\n",
       "    this.image_mode = 'full';\n",
       "\n",
       "    this.root = document.createElement('div');\n",
       "    this.root.setAttribute('style', 'display: inline-block');\n",
       "    this._root_extra_style(this.root);\n",
       "\n",
       "    parent_element.appendChild(this.root);\n",
       "\n",
       "    this._init_header(this);\n",
       "    this._init_canvas(this);\n",
       "    this._init_toolbar(this);\n",
       "\n",
       "    var fig = this;\n",
       "\n",
       "    this.waiting = false;\n",
       "\n",
       "    this.ws.onopen = function () {\n",
       "        fig.send_message('supports_binary', { value: fig.supports_binary });\n",
       "        fig.send_message('send_image_mode', {});\n",
       "        if (fig.ratio !== 1) {\n",
       "            fig.send_message('set_dpi_ratio', { dpi_ratio: fig.ratio });\n",
       "        }\n",
       "        fig.send_message('refresh', {});\n",
       "    };\n",
       "\n",
       "    this.imageObj.onload = function () {\n",
       "        if (fig.image_mode === 'full') {\n",
       "            // Full images could contain transparency (where diff images\n",
       "            // almost always do), so we need to clear the canvas so that\n",
       "            // there is no ghosting.\n",
       "            fig.context.clearRect(0, 0, fig.canvas.width, fig.canvas.height);\n",
       "        }\n",
       "        fig.context.drawImage(fig.imageObj, 0, 0);\n",
       "    };\n",
       "\n",
       "    this.imageObj.onunload = function () {\n",
       "        fig.ws.close();\n",
       "    };\n",
       "\n",
       "    this.ws.onmessage = this._make_on_message_function(this);\n",
       "\n",
       "    this.ondownload = ondownload;\n",
       "};\n",
       "\n",
       "mpl.figure.prototype._init_header = function () {\n",
       "    var titlebar = document.createElement('div');\n",
       "    titlebar.classList =\n",
       "        'ui-dialog-titlebar ui-widget-header ui-corner-all ui-helper-clearfix';\n",
       "    var titletext = document.createElement('div');\n",
       "    titletext.classList = 'ui-dialog-title';\n",
       "    titletext.setAttribute(\n",
       "        'style',\n",
       "        'width: 100%; text-align: center; padding: 3px;'\n",
       "    );\n",
       "    titlebar.appendChild(titletext);\n",
       "    this.root.appendChild(titlebar);\n",
       "    this.header = titletext;\n",
       "};\n",
       "\n",
       "mpl.figure.prototype._canvas_extra_style = function (_canvas_div) {};\n",
       "\n",
       "mpl.figure.prototype._root_extra_style = function (_canvas_div) {};\n",
       "\n",
       "mpl.figure.prototype._init_canvas = function () {\n",
       "    var fig = this;\n",
       "\n",
       "    var canvas_div = (this.canvas_div = document.createElement('div'));\n",
       "    canvas_div.setAttribute(\n",
       "        'style',\n",
       "        'border: 1px solid #ddd;' +\n",
       "            'box-sizing: content-box;' +\n",
       "            'clear: both;' +\n",
       "            'min-height: 1px;' +\n",
       "            'min-width: 1px;' +\n",
       "            'outline: 0;' +\n",
       "            'overflow: hidden;' +\n",
       "            'position: relative;' +\n",
       "            'resize: both;'\n",
       "    );\n",
       "\n",
       "    function on_keyboard_event_closure(name) {\n",
       "        return function (event) {\n",
       "            return fig.key_event(event, name);\n",
       "        };\n",
       "    }\n",
       "\n",
       "    canvas_div.addEventListener(\n",
       "        'keydown',\n",
       "        on_keyboard_event_closure('key_press')\n",
       "    );\n",
       "    canvas_div.addEventListener(\n",
       "        'keyup',\n",
       "        on_keyboard_event_closure('key_release')\n",
       "    );\n",
       "\n",
       "    this._canvas_extra_style(canvas_div);\n",
       "    this.root.appendChild(canvas_div);\n",
       "\n",
       "    var canvas = (this.canvas = document.createElement('canvas'));\n",
       "    canvas.classList.add('mpl-canvas');\n",
       "    canvas.setAttribute('style', 'box-sizing: content-box;');\n",
       "\n",
       "    this.context = canvas.getContext('2d');\n",
       "\n",
       "    var backingStore =\n",
       "        this.context.backingStorePixelRatio ||\n",
       "        this.context.webkitBackingStorePixelRatio ||\n",
       "        this.context.mozBackingStorePixelRatio ||\n",
       "        this.context.msBackingStorePixelRatio ||\n",
       "        this.context.oBackingStorePixelRatio ||\n",
       "        this.context.backingStorePixelRatio ||\n",
       "        1;\n",
       "\n",
       "    this.ratio = (window.devicePixelRatio || 1) / backingStore;\n",
       "\n",
       "    var rubberband_canvas = (this.rubberband_canvas = document.createElement(\n",
       "        'canvas'\n",
       "    ));\n",
       "    rubberband_canvas.setAttribute(\n",
       "        'style',\n",
       "        'box-sizing: content-box; position: absolute; left: 0; top: 0; z-index: 1;'\n",
       "    );\n",
       "\n",
       "    // Apply a ponyfill if ResizeObserver is not implemented by browser.\n",
       "    if (this.ResizeObserver === undefined) {\n",
       "        if (window.ResizeObserver !== undefined) {\n",
       "            this.ResizeObserver = window.ResizeObserver;\n",
       "        } else {\n",
       "            var obs = _JSXTOOLS_RESIZE_OBSERVER({});\n",
       "            this.ResizeObserver = obs.ResizeObserver;\n",
       "        }\n",
       "    }\n",
       "\n",
       "    this.resizeObserverInstance = new this.ResizeObserver(function (entries) {\n",
       "        var nentries = entries.length;\n",
       "        for (var i = 0; i < nentries; i++) {\n",
       "            var entry = entries[i];\n",
       "            var width, height;\n",
       "            if (entry.contentBoxSize) {\n",
       "                if (entry.contentBoxSize instanceof Array) {\n",
       "                    // Chrome 84 implements new version of spec.\n",
       "                    width = entry.contentBoxSize[0].inlineSize;\n",
       "                    height = entry.contentBoxSize[0].blockSize;\n",
       "                } else {\n",
       "                    // Firefox implements old version of spec.\n",
       "                    width = entry.contentBoxSize.inlineSize;\n",
       "                    height = entry.contentBoxSize.blockSize;\n",
       "                }\n",
       "            } else {\n",
       "                // Chrome <84 implements even older version of spec.\n",
       "                width = entry.contentRect.width;\n",
       "                height = entry.contentRect.height;\n",
       "            }\n",
       "\n",
       "            // Keep the size of the canvas and rubber band canvas in sync with\n",
       "            // the canvas container.\n",
       "            if (entry.devicePixelContentBoxSize) {\n",
       "                // Chrome 84 implements new version of spec.\n",
       "                canvas.setAttribute(\n",
       "                    'width',\n",
       "                    entry.devicePixelContentBoxSize[0].inlineSize\n",
       "                );\n",
       "                canvas.setAttribute(\n",
       "                    'height',\n",
       "                    entry.devicePixelContentBoxSize[0].blockSize\n",
       "                );\n",
       "            } else {\n",
       "                canvas.setAttribute('width', width * fig.ratio);\n",
       "                canvas.setAttribute('height', height * fig.ratio);\n",
       "            }\n",
       "            canvas.setAttribute(\n",
       "                'style',\n",
       "                'width: ' + width + 'px; height: ' + height + 'px;'\n",
       "            );\n",
       "\n",
       "            rubberband_canvas.setAttribute('width', width);\n",
       "            rubberband_canvas.setAttribute('height', height);\n",
       "\n",
       "            // And update the size in Python. We ignore the initial 0/0 size\n",
       "            // that occurs as the element is placed into the DOM, which should\n",
       "            // otherwise not happen due to the minimum size styling.\n",
       "            if (fig.ws.readyState == 1 && width != 0 && height != 0) {\n",
       "                fig.request_resize(width, height);\n",
       "            }\n",
       "        }\n",
       "    });\n",
       "    this.resizeObserverInstance.observe(canvas_div);\n",
       "\n",
       "    function on_mouse_event_closure(name) {\n",
       "        return function (event) {\n",
       "            return fig.mouse_event(event, name);\n",
       "        };\n",
       "    }\n",
       "\n",
       "    rubberband_canvas.addEventListener(\n",
       "        'mousedown',\n",
       "        on_mouse_event_closure('button_press')\n",
       "    );\n",
       "    rubberband_canvas.addEventListener(\n",
       "        'mouseup',\n",
       "        on_mouse_event_closure('button_release')\n",
       "    );\n",
       "    // Throttle sequential mouse events to 1 every 20ms.\n",
       "    rubberband_canvas.addEventListener(\n",
       "        'mousemove',\n",
       "        on_mouse_event_closure('motion_notify')\n",
       "    );\n",
       "\n",
       "    rubberband_canvas.addEventListener(\n",
       "        'mouseenter',\n",
       "        on_mouse_event_closure('figure_enter')\n",
       "    );\n",
       "    rubberband_canvas.addEventListener(\n",
       "        'mouseleave',\n",
       "        on_mouse_event_closure('figure_leave')\n",
       "    );\n",
       "\n",
       "    canvas_div.addEventListener('wheel', function (event) {\n",
       "        if (event.deltaY < 0) {\n",
       "            event.step = 1;\n",
       "        } else {\n",
       "            event.step = -1;\n",
       "        }\n",
       "        on_mouse_event_closure('scroll')(event);\n",
       "    });\n",
       "\n",
       "    canvas_div.appendChild(canvas);\n",
       "    canvas_div.appendChild(rubberband_canvas);\n",
       "\n",
       "    this.rubberband_context = rubberband_canvas.getContext('2d');\n",
       "    this.rubberband_context.strokeStyle = '#000000';\n",
       "\n",
       "    this._resize_canvas = function (width, height, forward) {\n",
       "        if (forward) {\n",
       "            canvas_div.style.width = width + 'px';\n",
       "            canvas_div.style.height = height + 'px';\n",
       "        }\n",
       "    };\n",
       "\n",
       "    // Disable right mouse context menu.\n",
       "    this.rubberband_canvas.addEventListener('contextmenu', function (_e) {\n",
       "        event.preventDefault();\n",
       "        return false;\n",
       "    });\n",
       "\n",
       "    function set_focus() {\n",
       "        canvas.focus();\n",
       "        canvas_div.focus();\n",
       "    }\n",
       "\n",
       "    window.setTimeout(set_focus, 100);\n",
       "};\n",
       "\n",
       "mpl.figure.prototype._init_toolbar = function () {\n",
       "    var fig = this;\n",
       "\n",
       "    var toolbar = document.createElement('div');\n",
       "    toolbar.classList = 'mpl-toolbar';\n",
       "    this.root.appendChild(toolbar);\n",
       "\n",
       "    function on_click_closure(name) {\n",
       "        return function (_event) {\n",
       "            return fig.toolbar_button_onclick(name);\n",
       "        };\n",
       "    }\n",
       "\n",
       "    function on_mouseover_closure(tooltip) {\n",
       "        return function (event) {\n",
       "            if (!event.currentTarget.disabled) {\n",
       "                return fig.toolbar_button_onmouseover(tooltip);\n",
       "            }\n",
       "        };\n",
       "    }\n",
       "\n",
       "    fig.buttons = {};\n",
       "    var buttonGroup = document.createElement('div');\n",
       "    buttonGroup.classList = 'mpl-button-group';\n",
       "    for (var toolbar_ind in mpl.toolbar_items) {\n",
       "        var name = mpl.toolbar_items[toolbar_ind][0];\n",
       "        var tooltip = mpl.toolbar_items[toolbar_ind][1];\n",
       "        var image = mpl.toolbar_items[toolbar_ind][2];\n",
       "        var method_name = mpl.toolbar_items[toolbar_ind][3];\n",
       "\n",
       "        if (!name) {\n",
       "            /* Instead of a spacer, we start a new button group. */\n",
       "            if (buttonGroup.hasChildNodes()) {\n",
       "                toolbar.appendChild(buttonGroup);\n",
       "            }\n",
       "            buttonGroup = document.createElement('div');\n",
       "            buttonGroup.classList = 'mpl-button-group';\n",
       "            continue;\n",
       "        }\n",
       "\n",
       "        var button = (fig.buttons[name] = document.createElement('button'));\n",
       "        button.classList = 'mpl-widget';\n",
       "        button.setAttribute('role', 'button');\n",
       "        button.setAttribute('aria-disabled', 'false');\n",
       "        button.addEventListener('click', on_click_closure(method_name));\n",
       "        button.addEventListener('mouseover', on_mouseover_closure(tooltip));\n",
       "\n",
       "        var icon_img = document.createElement('img');\n",
       "        icon_img.src = '_images/' + image + '.png';\n",
       "        icon_img.srcset = '_images/' + image + '_large.png 2x';\n",
       "        icon_img.alt = tooltip;\n",
       "        button.appendChild(icon_img);\n",
       "\n",
       "        buttonGroup.appendChild(button);\n",
       "    }\n",
       "\n",
       "    if (buttonGroup.hasChildNodes()) {\n",
       "        toolbar.appendChild(buttonGroup);\n",
       "    }\n",
       "\n",
       "    var fmt_picker = document.createElement('select');\n",
       "    fmt_picker.classList = 'mpl-widget';\n",
       "    toolbar.appendChild(fmt_picker);\n",
       "    this.format_dropdown = fmt_picker;\n",
       "\n",
       "    for (var ind in mpl.extensions) {\n",
       "        var fmt = mpl.extensions[ind];\n",
       "        var option = document.createElement('option');\n",
       "        option.selected = fmt === mpl.default_extension;\n",
       "        option.innerHTML = fmt;\n",
       "        fmt_picker.appendChild(option);\n",
       "    }\n",
       "\n",
       "    var status_bar = document.createElement('span');\n",
       "    status_bar.classList = 'mpl-message';\n",
       "    toolbar.appendChild(status_bar);\n",
       "    this.message = status_bar;\n",
       "};\n",
       "\n",
       "mpl.figure.prototype.request_resize = function (x_pixels, y_pixels) {\n",
       "    // Request matplotlib to resize the figure. Matplotlib will then trigger a resize in the client,\n",
       "    // which will in turn request a refresh of the image.\n",
       "    this.send_message('resize', { width: x_pixels, height: y_pixels });\n",
       "};\n",
       "\n",
       "mpl.figure.prototype.send_message = function (type, properties) {\n",
       "    properties['type'] = type;\n",
       "    properties['figure_id'] = this.id;\n",
       "    this.ws.send(JSON.stringify(properties));\n",
       "};\n",
       "\n",
       "mpl.figure.prototype.send_draw_message = function () {\n",
       "    if (!this.waiting) {\n",
       "        this.waiting = true;\n",
       "        this.ws.send(JSON.stringify({ type: 'draw', figure_id: this.id }));\n",
       "    }\n",
       "};\n",
       "\n",
       "mpl.figure.prototype.handle_save = function (fig, _msg) {\n",
       "    var format_dropdown = fig.format_dropdown;\n",
       "    var format = format_dropdown.options[format_dropdown.selectedIndex].value;\n",
       "    fig.ondownload(fig, format);\n",
       "};\n",
       "\n",
       "mpl.figure.prototype.handle_resize = function (fig, msg) {\n",
       "    var size = msg['size'];\n",
       "    if (size[0] !== fig.canvas.width || size[1] !== fig.canvas.height) {\n",
       "        fig._resize_canvas(size[0], size[1], msg['forward']);\n",
       "        fig.send_message('refresh', {});\n",
       "    }\n",
       "};\n",
       "\n",
       "mpl.figure.prototype.handle_rubberband = function (fig, msg) {\n",
       "    var x0 = msg['x0'] / fig.ratio;\n",
       "    var y0 = (fig.canvas.height - msg['y0']) / fig.ratio;\n",
       "    var x1 = msg['x1'] / fig.ratio;\n",
       "    var y1 = (fig.canvas.height - msg['y1']) / fig.ratio;\n",
       "    x0 = Math.floor(x0) + 0.5;\n",
       "    y0 = Math.floor(y0) + 0.5;\n",
       "    x1 = Math.floor(x1) + 0.5;\n",
       "    y1 = Math.floor(y1) + 0.5;\n",
       "    var min_x = Math.min(x0, x1);\n",
       "    var min_y = Math.min(y0, y1);\n",
       "    var width = Math.abs(x1 - x0);\n",
       "    var height = Math.abs(y1 - y0);\n",
       "\n",
       "    fig.rubberband_context.clearRect(\n",
       "        0,\n",
       "        0,\n",
       "        fig.canvas.width / fig.ratio,\n",
       "        fig.canvas.height / fig.ratio\n",
       "    );\n",
       "\n",
       "    fig.rubberband_context.strokeRect(min_x, min_y, width, height);\n",
       "};\n",
       "\n",
       "mpl.figure.prototype.handle_figure_label = function (fig, msg) {\n",
       "    // Updates the figure title.\n",
       "    fig.header.textContent = msg['label'];\n",
       "};\n",
       "\n",
       "mpl.figure.prototype.handle_cursor = function (fig, msg) {\n",
       "    var cursor = msg['cursor'];\n",
       "    switch (cursor) {\n",
       "        case 0:\n",
       "            cursor = 'pointer';\n",
       "            break;\n",
       "        case 1:\n",
       "            cursor = 'default';\n",
       "            break;\n",
       "        case 2:\n",
       "            cursor = 'crosshair';\n",
       "            break;\n",
       "        case 3:\n",
       "            cursor = 'move';\n",
       "            break;\n",
       "    }\n",
       "    fig.rubberband_canvas.style.cursor = cursor;\n",
       "};\n",
       "\n",
       "mpl.figure.prototype.handle_message = function (fig, msg) {\n",
       "    fig.message.textContent = msg['message'];\n",
       "};\n",
       "\n",
       "mpl.figure.prototype.handle_draw = function (fig, _msg) {\n",
       "    // Request the server to send over a new figure.\n",
       "    fig.send_draw_message();\n",
       "};\n",
       "\n",
       "mpl.figure.prototype.handle_image_mode = function (fig, msg) {\n",
       "    fig.image_mode = msg['mode'];\n",
       "};\n",
       "\n",
       "mpl.figure.prototype.handle_history_buttons = function (fig, msg) {\n",
       "    for (var key in msg) {\n",
       "        if (!(key in fig.buttons)) {\n",
       "            continue;\n",
       "        }\n",
       "        fig.buttons[key].disabled = !msg[key];\n",
       "        fig.buttons[key].setAttribute('aria-disabled', !msg[key]);\n",
       "    }\n",
       "};\n",
       "\n",
       "mpl.figure.prototype.handle_navigate_mode = function (fig, msg) {\n",
       "    if (msg['mode'] === 'PAN') {\n",
       "        fig.buttons['Pan'].classList.add('active');\n",
       "        fig.buttons['Zoom'].classList.remove('active');\n",
       "    } else if (msg['mode'] === 'ZOOM') {\n",
       "        fig.buttons['Pan'].classList.remove('active');\n",
       "        fig.buttons['Zoom'].classList.add('active');\n",
       "    } else {\n",
       "        fig.buttons['Pan'].classList.remove('active');\n",
       "        fig.buttons['Zoom'].classList.remove('active');\n",
       "    }\n",
       "};\n",
       "\n",
       "mpl.figure.prototype.updated_canvas_event = function () {\n",
       "    // Called whenever the canvas gets updated.\n",
       "    this.send_message('ack', {});\n",
       "};\n",
       "\n",
       "// A function to construct a web socket function for onmessage handling.\n",
       "// Called in the figure constructor.\n",
       "mpl.figure.prototype._make_on_message_function = function (fig) {\n",
       "    return function socket_on_message(evt) {\n",
       "        if (evt.data instanceof Blob) {\n",
       "            /* FIXME: We get \"Resource interpreted as Image but\n",
       "             * transferred with MIME type text/plain:\" errors on\n",
       "             * Chrome.  But how to set the MIME type?  It doesn't seem\n",
       "             * to be part of the websocket stream */\n",
       "            evt.data.type = 'image/png';\n",
       "\n",
       "            /* Free the memory for the previous frames */\n",
       "            if (fig.imageObj.src) {\n",
       "                (window.URL || window.webkitURL).revokeObjectURL(\n",
       "                    fig.imageObj.src\n",
       "                );\n",
       "            }\n",
       "\n",
       "            fig.imageObj.src = (window.URL || window.webkitURL).createObjectURL(\n",
       "                evt.data\n",
       "            );\n",
       "            fig.updated_canvas_event();\n",
       "            fig.waiting = false;\n",
       "            return;\n",
       "        } else if (\n",
       "            typeof evt.data === 'string' &&\n",
       "            evt.data.slice(0, 21) === 'data:image/png;base64'\n",
       "        ) {\n",
       "            fig.imageObj.src = evt.data;\n",
       "            fig.updated_canvas_event();\n",
       "            fig.waiting = false;\n",
       "            return;\n",
       "        }\n",
       "\n",
       "        var msg = JSON.parse(evt.data);\n",
       "        var msg_type = msg['type'];\n",
       "\n",
       "        // Call the  \"handle_{type}\" callback, which takes\n",
       "        // the figure and JSON message as its only arguments.\n",
       "        try {\n",
       "            var callback = fig['handle_' + msg_type];\n",
       "        } catch (e) {\n",
       "            console.log(\n",
       "                \"No handler for the '\" + msg_type + \"' message type: \",\n",
       "                msg\n",
       "            );\n",
       "            return;\n",
       "        }\n",
       "\n",
       "        if (callback) {\n",
       "            try {\n",
       "                // console.log(\"Handling '\" + msg_type + \"' message: \", msg);\n",
       "                callback(fig, msg);\n",
       "            } catch (e) {\n",
       "                console.log(\n",
       "                    \"Exception inside the 'handler_\" + msg_type + \"' callback:\",\n",
       "                    e,\n",
       "                    e.stack,\n",
       "                    msg\n",
       "                );\n",
       "            }\n",
       "        }\n",
       "    };\n",
       "};\n",
       "\n",
       "// from http://stackoverflow.com/questions/1114465/getting-mouse-location-in-canvas\n",
       "mpl.findpos = function (e) {\n",
       "    //this section is from http://www.quirksmode.org/js/events_properties.html\n",
       "    var targ;\n",
       "    if (!e) {\n",
       "        e = window.event;\n",
       "    }\n",
       "    if (e.target) {\n",
       "        targ = e.target;\n",
       "    } else if (e.srcElement) {\n",
       "        targ = e.srcElement;\n",
       "    }\n",
       "    if (targ.nodeType === 3) {\n",
       "        // defeat Safari bug\n",
       "        targ = targ.parentNode;\n",
       "    }\n",
       "\n",
       "    // pageX,Y are the mouse positions relative to the document\n",
       "    var boundingRect = targ.getBoundingClientRect();\n",
       "    var x = e.pageX - (boundingRect.left + document.body.scrollLeft);\n",
       "    var y = e.pageY - (boundingRect.top + document.body.scrollTop);\n",
       "\n",
       "    return { x: x, y: y };\n",
       "};\n",
       "\n",
       "/*\n",
       " * return a copy of an object with only non-object keys\n",
       " * we need this to avoid circular references\n",
       " * http://stackoverflow.com/a/24161582/3208463\n",
       " */\n",
       "function simpleKeys(original) {\n",
       "    return Object.keys(original).reduce(function (obj, key) {\n",
       "        if (typeof original[key] !== 'object') {\n",
       "            obj[key] = original[key];\n",
       "        }\n",
       "        return obj;\n",
       "    }, {});\n",
       "}\n",
       "\n",
       "mpl.figure.prototype.mouse_event = function (event, name) {\n",
       "    var canvas_pos = mpl.findpos(event);\n",
       "\n",
       "    if (name === 'button_press') {\n",
       "        this.canvas.focus();\n",
       "        this.canvas_div.focus();\n",
       "    }\n",
       "\n",
       "    var x = canvas_pos.x * this.ratio;\n",
       "    var y = canvas_pos.y * this.ratio;\n",
       "\n",
       "    this.send_message(name, {\n",
       "        x: x,\n",
       "        y: y,\n",
       "        button: event.button,\n",
       "        step: event.step,\n",
       "        guiEvent: simpleKeys(event),\n",
       "    });\n",
       "\n",
       "    /* This prevents the web browser from automatically changing to\n",
       "     * the text insertion cursor when the button is pressed.  We want\n",
       "     * to control all of the cursor setting manually through the\n",
       "     * 'cursor' event from matplotlib */\n",
       "    event.preventDefault();\n",
       "    return false;\n",
       "};\n",
       "\n",
       "mpl.figure.prototype._key_event_extra = function (_event, _name) {\n",
       "    // Handle any extra behaviour associated with a key event\n",
       "};\n",
       "\n",
       "mpl.figure.prototype.key_event = function (event, name) {\n",
       "    // Prevent repeat events\n",
       "    if (name === 'key_press') {\n",
       "        if (event.which === this._key) {\n",
       "            return;\n",
       "        } else {\n",
       "            this._key = event.which;\n",
       "        }\n",
       "    }\n",
       "    if (name === 'key_release') {\n",
       "        this._key = null;\n",
       "    }\n",
       "\n",
       "    var value = '';\n",
       "    if (event.ctrlKey && event.which !== 17) {\n",
       "        value += 'ctrl+';\n",
       "    }\n",
       "    if (event.altKey && event.which !== 18) {\n",
       "        value += 'alt+';\n",
       "    }\n",
       "    if (event.shiftKey && event.which !== 16) {\n",
       "        value += 'shift+';\n",
       "    }\n",
       "\n",
       "    value += 'k';\n",
       "    value += event.which.toString();\n",
       "\n",
       "    this._key_event_extra(event, name);\n",
       "\n",
       "    this.send_message(name, { key: value, guiEvent: simpleKeys(event) });\n",
       "    return false;\n",
       "};\n",
       "\n",
       "mpl.figure.prototype.toolbar_button_onclick = function (name) {\n",
       "    if (name === 'download') {\n",
       "        this.handle_save(this, null);\n",
       "    } else {\n",
       "        this.send_message('toolbar_button', { name: name });\n",
       "    }\n",
       "};\n",
       "\n",
       "mpl.figure.prototype.toolbar_button_onmouseover = function (tooltip) {\n",
       "    this.message.textContent = tooltip;\n",
       "};\n",
       "\n",
       "///////////////// REMAINING CONTENT GENERATED BY embed_js.py /////////////////\n",
       "// prettier-ignore\n",
       "var _JSXTOOLS_RESIZE_OBSERVER=function(A){var t,i=new WeakMap,n=new WeakMap,a=new WeakMap,r=new WeakMap,o=new Set;function s(e){if(!(this instanceof s))throw new TypeError(\"Constructor requires 'new' operator\");i.set(this,e)}function h(){throw new TypeError(\"Function is not a constructor\")}function c(e,t,i,n){e=0 in arguments?Number(arguments[0]):0,t=1 in arguments?Number(arguments[1]):0,i=2 in arguments?Number(arguments[2]):0,n=3 in arguments?Number(arguments[3]):0,this.right=(this.x=this.left=e)+(this.width=i),this.bottom=(this.y=this.top=t)+(this.height=n),Object.freeze(this)}function d(){t=requestAnimationFrame(d);var s=new WeakMap,p=new Set;o.forEach((function(t){r.get(t).forEach((function(i){var r=t instanceof window.SVGElement,o=a.get(t),d=r?0:parseFloat(o.paddingTop),f=r?0:parseFloat(o.paddingRight),l=r?0:parseFloat(o.paddingBottom),u=r?0:parseFloat(o.paddingLeft),g=r?0:parseFloat(o.borderTopWidth),m=r?0:parseFloat(o.borderRightWidth),w=r?0:parseFloat(o.borderBottomWidth),b=u+f,F=d+l,v=(r?0:parseFloat(o.borderLeftWidth))+m,W=g+w,y=r?0:t.offsetHeight-W-t.clientHeight,E=r?0:t.offsetWidth-v-t.clientWidth,R=b+v,z=F+W,M=r?t.width:parseFloat(o.width)-R-E,O=r?t.height:parseFloat(o.height)-z-y;if(n.has(t)){var k=n.get(t);if(k[0]===M&&k[1]===O)return}n.set(t,[M,O]);var S=Object.create(h.prototype);S.target=t,S.contentRect=new c(u,d,M,O),s.has(i)||(s.set(i,[]),p.add(i)),s.get(i).push(S)}))})),p.forEach((function(e){i.get(e).call(e,s.get(e),e)}))}return s.prototype.observe=function(i){if(i instanceof window.Element){r.has(i)||(r.set(i,new Set),o.add(i),a.set(i,window.getComputedStyle(i)));var n=r.get(i);n.has(this)||n.add(this),cancelAnimationFrame(t),t=requestAnimationFrame(d)}},s.prototype.unobserve=function(i){if(i instanceof window.Element&&r.has(i)){var n=r.get(i);n.has(this)&&(n.delete(this),n.size||(r.delete(i),o.delete(i))),n.size||r.delete(i),o.size||cancelAnimationFrame(t)}},A.DOMRectReadOnly=c,A.ResizeObserver=s,A.ResizeObserverEntry=h,A}; // eslint-disable-line\n",
       "mpl.toolbar_items = [[\"Home\", \"Reset original view\", \"fa fa-home icon-home\", \"home\"], [\"Back\", \"Back to previous view\", \"fa fa-arrow-left icon-arrow-left\", \"back\"], [\"Forward\", \"Forward to next view\", \"fa fa-arrow-right icon-arrow-right\", \"forward\"], [\"\", \"\", \"\", \"\"], [\"Pan\", \"Left button pans, Right button zooms\\nx/y fixes axis, CTRL fixes aspect\", \"fa fa-arrows icon-move\", \"pan\"], [\"Zoom\", \"Zoom to rectangle\\nx/y fixes axis, CTRL fixes aspect\", \"fa fa-square-o icon-check-empty\", \"zoom\"], [\"\", \"\", \"\", \"\"], [\"Download\", \"Download plot\", \"fa fa-floppy-o icon-save\", \"download\"]];\n",
       "\n",
       "mpl.extensions = [\"eps\", \"jpeg\", \"pdf\", \"png\", \"ps\", \"raw\", \"svg\", \"tif\"];\n",
       "\n",
       "mpl.default_extension = \"png\";/* global mpl */\n",
       "\n",
       "var comm_websocket_adapter = function (comm) {\n",
       "    // Create a \"websocket\"-like object which calls the given IPython comm\n",
       "    // object with the appropriate methods. Currently this is a non binary\n",
       "    // socket, so there is still some room for performance tuning.\n",
       "    var ws = {};\n",
       "\n",
       "    ws.close = function () {\n",
       "        comm.close();\n",
       "    };\n",
       "    ws.send = function (m) {\n",
       "        //console.log('sending', m);\n",
       "        comm.send(m);\n",
       "    };\n",
       "    // Register the callback with on_msg.\n",
       "    comm.on_msg(function (msg) {\n",
       "        //console.log('receiving', msg['content']['data'], msg);\n",
       "        // Pass the mpl event to the overridden (by mpl) onmessage function.\n",
       "        ws.onmessage(msg['content']['data']);\n",
       "    });\n",
       "    return ws;\n",
       "};\n",
       "\n",
       "mpl.mpl_figure_comm = function (comm, msg) {\n",
       "    // This is the function which gets called when the mpl process\n",
       "    // starts-up an IPython Comm through the \"matplotlib\" channel.\n",
       "\n",
       "    var id = msg.content.data.id;\n",
       "    // Get hold of the div created by the display call when the Comm\n",
       "    // socket was opened in Python.\n",
       "    var element = document.getElementById(id);\n",
       "    var ws_proxy = comm_websocket_adapter(comm);\n",
       "\n",
       "    function ondownload(figure, _format) {\n",
       "        window.open(figure.canvas.toDataURL());\n",
       "    }\n",
       "\n",
       "    var fig = new mpl.figure(id, ws_proxy, ondownload, element);\n",
       "\n",
       "    // Call onopen now - mpl needs it, as it is assuming we've passed it a real\n",
       "    // web socket which is closed, not our websocket->open comm proxy.\n",
       "    ws_proxy.onopen();\n",
       "\n",
       "    fig.parent_element = element;\n",
       "    fig.cell_info = mpl.find_output_cell(\"<div id='\" + id + \"'></div>\");\n",
       "    if (!fig.cell_info) {\n",
       "        console.error('Failed to find cell for figure', id, fig);\n",
       "        return;\n",
       "    }\n",
       "    fig.cell_info[0].output_area.element.on(\n",
       "        'cleared',\n",
       "        { fig: fig },\n",
       "        fig._remove_fig_handler\n",
       "    );\n",
       "};\n",
       "\n",
       "mpl.figure.prototype.handle_close = function (fig, msg) {\n",
       "    var width = fig.canvas.width / fig.ratio;\n",
       "    fig.cell_info[0].output_area.element.off(\n",
       "        'cleared',\n",
       "        fig._remove_fig_handler\n",
       "    );\n",
       "    fig.resizeObserverInstance.unobserve(fig.canvas_div);\n",
       "\n",
       "    // Update the output cell to use the data from the current canvas.\n",
       "    fig.push_to_output();\n",
       "    var dataURL = fig.canvas.toDataURL();\n",
       "    // Re-enable the keyboard manager in IPython - without this line, in FF,\n",
       "    // the notebook keyboard shortcuts fail.\n",
       "    IPython.keyboard_manager.enable();\n",
       "    fig.parent_element.innerHTML =\n",
       "        '<img src=\"' + dataURL + '\" width=\"' + width + '\">';\n",
       "    fig.close_ws(fig, msg);\n",
       "};\n",
       "\n",
       "mpl.figure.prototype.close_ws = function (fig, msg) {\n",
       "    fig.send_message('closing', msg);\n",
       "    // fig.ws.close()\n",
       "};\n",
       "\n",
       "mpl.figure.prototype.push_to_output = function (_remove_interactive) {\n",
       "    // Turn the data on the canvas into data in the output cell.\n",
       "    var width = this.canvas.width / this.ratio;\n",
       "    var dataURL = this.canvas.toDataURL();\n",
       "    this.cell_info[1]['text/html'] =\n",
       "        '<img src=\"' + dataURL + '\" width=\"' + width + '\">';\n",
       "};\n",
       "\n",
       "mpl.figure.prototype.updated_canvas_event = function () {\n",
       "    // Tell IPython that the notebook contents must change.\n",
       "    IPython.notebook.set_dirty(true);\n",
       "    this.send_message('ack', {});\n",
       "    var fig = this;\n",
       "    // Wait a second, then push the new image to the DOM so\n",
       "    // that it is saved nicely (might be nice to debounce this).\n",
       "    setTimeout(function () {\n",
       "        fig.push_to_output();\n",
       "    }, 1000);\n",
       "};\n",
       "\n",
       "mpl.figure.prototype._init_toolbar = function () {\n",
       "    var fig = this;\n",
       "\n",
       "    var toolbar = document.createElement('div');\n",
       "    toolbar.classList = 'btn-toolbar';\n",
       "    this.root.appendChild(toolbar);\n",
       "\n",
       "    function on_click_closure(name) {\n",
       "        return function (_event) {\n",
       "            return fig.toolbar_button_onclick(name);\n",
       "        };\n",
       "    }\n",
       "\n",
       "    function on_mouseover_closure(tooltip) {\n",
       "        return function (event) {\n",
       "            if (!event.currentTarget.disabled) {\n",
       "                return fig.toolbar_button_onmouseover(tooltip);\n",
       "            }\n",
       "        };\n",
       "    }\n",
       "\n",
       "    fig.buttons = {};\n",
       "    var buttonGroup = document.createElement('div');\n",
       "    buttonGroup.classList = 'btn-group';\n",
       "    var button;\n",
       "    for (var toolbar_ind in mpl.toolbar_items) {\n",
       "        var name = mpl.toolbar_items[toolbar_ind][0];\n",
       "        var tooltip = mpl.toolbar_items[toolbar_ind][1];\n",
       "        var image = mpl.toolbar_items[toolbar_ind][2];\n",
       "        var method_name = mpl.toolbar_items[toolbar_ind][3];\n",
       "\n",
       "        if (!name) {\n",
       "            /* Instead of a spacer, we start a new button group. */\n",
       "            if (buttonGroup.hasChildNodes()) {\n",
       "                toolbar.appendChild(buttonGroup);\n",
       "            }\n",
       "            buttonGroup = document.createElement('div');\n",
       "            buttonGroup.classList = 'btn-group';\n",
       "            continue;\n",
       "        }\n",
       "\n",
       "        button = fig.buttons[name] = document.createElement('button');\n",
       "        button.classList = 'btn btn-default';\n",
       "        button.href = '#';\n",
       "        button.title = name;\n",
       "        button.innerHTML = '<i class=\"fa ' + image + ' fa-lg\"></i>';\n",
       "        button.addEventListener('click', on_click_closure(method_name));\n",
       "        button.addEventListener('mouseover', on_mouseover_closure(tooltip));\n",
       "        buttonGroup.appendChild(button);\n",
       "    }\n",
       "\n",
       "    if (buttonGroup.hasChildNodes()) {\n",
       "        toolbar.appendChild(buttonGroup);\n",
       "    }\n",
       "\n",
       "    // Add the status bar.\n",
       "    var status_bar = document.createElement('span');\n",
       "    status_bar.classList = 'mpl-message pull-right';\n",
       "    toolbar.appendChild(status_bar);\n",
       "    this.message = status_bar;\n",
       "\n",
       "    // Add the close button to the window.\n",
       "    var buttongrp = document.createElement('div');\n",
       "    buttongrp.classList = 'btn-group inline pull-right';\n",
       "    button = document.createElement('button');\n",
       "    button.classList = 'btn btn-mini btn-primary';\n",
       "    button.href = '#';\n",
       "    button.title = 'Stop Interaction';\n",
       "    button.innerHTML = '<i class=\"fa fa-power-off icon-remove icon-large\"></i>';\n",
       "    button.addEventListener('click', function (_evt) {\n",
       "        fig.handle_close(fig, {});\n",
       "    });\n",
       "    button.addEventListener(\n",
       "        'mouseover',\n",
       "        on_mouseover_closure('Stop Interaction')\n",
       "    );\n",
       "    buttongrp.appendChild(button);\n",
       "    var titlebar = this.root.querySelector('.ui-dialog-titlebar');\n",
       "    titlebar.insertBefore(buttongrp, titlebar.firstChild);\n",
       "};\n",
       "\n",
       "mpl.figure.prototype._remove_fig_handler = function (event) {\n",
       "    var fig = event.data.fig;\n",
       "    if (event.target !== this) {\n",
       "        // Ignore bubbled events from children.\n",
       "        return;\n",
       "    }\n",
       "    fig.close_ws(fig, {});\n",
       "};\n",
       "\n",
       "mpl.figure.prototype._root_extra_style = function (el) {\n",
       "    el.style.boxSizing = 'content-box'; // override notebook setting of border-box.\n",
       "};\n",
       "\n",
       "mpl.figure.prototype._canvas_extra_style = function (el) {\n",
       "    // this is important to make the div 'focusable\n",
       "    el.setAttribute('tabindex', 0);\n",
       "    // reach out to IPython and tell the keyboard manager to turn it's self\n",
       "    // off when our div gets focus\n",
       "\n",
       "    // location in version 3\n",
       "    if (IPython.notebook.keyboard_manager) {\n",
       "        IPython.notebook.keyboard_manager.register_events(el);\n",
       "    } else {\n",
       "        // location in version 2\n",
       "        IPython.keyboard_manager.register_events(el);\n",
       "    }\n",
       "};\n",
       "\n",
       "mpl.figure.prototype._key_event_extra = function (event, _name) {\n",
       "    var manager = IPython.notebook.keyboard_manager;\n",
       "    if (!manager) {\n",
       "        manager = IPython.keyboard_manager;\n",
       "    }\n",
       "\n",
       "    // Check for shift+enter\n",
       "    if (event.shiftKey && event.which === 13) {\n",
       "        this.canvas_div.blur();\n",
       "        // select the cell after this one\n",
       "        var index = IPython.notebook.find_cell_index(this.cell_info[0]);\n",
       "        IPython.notebook.select(index + 1);\n",
       "    }\n",
       "};\n",
       "\n",
       "mpl.figure.prototype.handle_save = function (fig, _msg) {\n",
       "    fig.ondownload(fig, null);\n",
       "};\n",
       "\n",
       "mpl.find_output_cell = function (html_output) {\n",
       "    // Return the cell and output element which can be found *uniquely* in the notebook.\n",
       "    // Note - this is a bit hacky, but it is done because the \"notebook_saving.Notebook\"\n",
       "    // IPython event is triggered only after the cells have been serialised, which for\n",
       "    // our purposes (turning an active figure into a static one), is too late.\n",
       "    var cells = IPython.notebook.get_cells();\n",
       "    var ncells = cells.length;\n",
       "    for (var i = 0; i < ncells; i++) {\n",
       "        var cell = cells[i];\n",
       "        if (cell.cell_type === 'code') {\n",
       "            for (var j = 0; j < cell.output_area.outputs.length; j++) {\n",
       "                var data = cell.output_area.outputs[j];\n",
       "                if (data.data) {\n",
       "                    // IPython >= 3 moved mimebundle to data attribute of output\n",
       "                    data = data.data;\n",
       "                }\n",
       "                if (data['text/html'] === html_output) {\n",
       "                    return [cell, data, j];\n",
       "                }\n",
       "            }\n",
       "        }\n",
       "    }\n",
       "};\n",
       "\n",
       "// Register the function which deals with the matplotlib target/channel.\n",
       "// The kernel may be null if the page has been refreshed.\n",
       "if (IPython.notebook.kernel !== null) {\n",
       "    IPython.notebook.kernel.comm_manager.register_target(\n",
       "        'matplotlib',\n",
       "        mpl.mpl_figure_comm\n",
       "    );\n",
       "}\n"
      ],
      "text/plain": [
       "<IPython.core.display.Javascript object>"
      ]
     },
     "metadata": {},
     "output_type": "display_data"
    },
    {
     "data": {
      "text/html": [
       "<img src=\"data:image/png;base64,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\" width=\"576\">"
      ],
      "text/plain": [
       "<IPython.core.display.HTML object>"
      ]
     },
     "metadata": {},
     "output_type": "display_data"
    },
    {
     "data": {
      "text/plain": [
       "Text(0.5, 0.92, '$\\\\frac{\\\\sin(\\\\Vert x\\\\Vert_2)}{\\\\Vert x\\\\Vert_2}$')"
      ]
     },
     "execution_count": 116,
     "metadata": {},
     "output_type": "execute_result"
    }
   ],
   "source": [
    "# Create a figure and an axis with 3d projection attribute.\n",
    "fig, ax = plt.subplots(subplot_kw={\"projection\": \"3d\"}, figsize=(8,4))\n",
    "\n",
    "# Create the data\n",
    "x = np.arange(-2*np.pi, 2*np.pi, 0.25)\n",
    "y = np.arange(-2*np.pi, 2*np.pi, 0.25)\n",
    "\n",
    "# Tile the data for evaluating the function and plotting\n",
    "xx, yy = np.meshgrid(x, y)\n",
    "\n",
    "# Evaluate the scalar valued 2d function\n",
    "zz = np.sinc(np.sqrt(xx**2 + yy**2))\n",
    "\n",
    "# Plot the surface.\n",
    "surf = ax.plot_surface(xx, yy, zz, cmap='coolwarm')\n",
    "ax.set_xlabel('x')\n",
    "ax.set_ylabel('y')\n",
    "ax.set_title(r'$\\frac{\\sin(\\Vert x\\Vert_2)}{\\Vert x\\Vert_2}$')"
   ]
  }
 ],
 "metadata": {
  "colab": {
   "collapsed_sections": [],
   "name": "colab-tutorial.ipynb",
   "provenance": []
  },
  "interpreter": {
   "hash": "ccac982593c67a35e7a528c362e964f21ede2c0da5d6722a2236ba8f3edfa1d0"
  },
  "kernelspec": {
   "display_name": "Python 3",
   "language": "python",
   "name": "python3"
  },
  "language_info": {
   "codemirror_mode": {
    "name": "ipython",
    "version": 3
   },
   "file_extension": ".py",
   "mimetype": "text/x-python",
   "name": "python",
   "nbconvert_exporter": "python",
   "pygments_lexer": "ipython3",
   "version": "3.8.8"
  }
 },
 "nbformat": 4,
 "nbformat_minor": 1
}
